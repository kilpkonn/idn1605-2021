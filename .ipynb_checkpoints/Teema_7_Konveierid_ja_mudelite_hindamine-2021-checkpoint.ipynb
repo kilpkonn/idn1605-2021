{
 "cells": [
  {
   "cell_type": "markdown",
   "metadata": {},
   "source": [
    "# Konveierid (*Pipeline*), mudelite hindamine ja hüperparameetrite tuunimine\n",
    "\n",
    "\n",
    "## Sisukord\n",
    "\n",
    "* [Konveier](#konveier)\n",
    "* [Andmete ristkontroll](#ristkontroll)\n",
    "* [Ülesanne 7.1](#7_1)\n",
    "* [Õppimiskõverad](#õppimiskõverad)\n",
    "* [Validatsioonikõverad](#validatsioonikõverad)\n",
    "* [Hüperparameetrite tuunimine](#hüper)\n",
    "* [Eksimismaatriks](#Eksimismaatriks)\n",
    "* [ROC kõver](#roc)\n",
    "* [Ülesanne 7.2](#7_2)\n",
    "\n",
    "Põhineb S.Raschka *Python Machine Learnig* raamatu [peatükil 6](https://github.com/rasbt/python-machine-learning-book/blob/master/code/ch06/ch06.ipynb) ([*MIT litsents*](https://github.com/rasbt/python-machine-learning-book/blob/master/LICENSE.txt))."
   ]
  },
  {
   "cell_type": "markdown",
   "metadata": {},
   "source": [
    "<a id='konveier'></a>\n",
    "## Konveier (pipeline)\n",
    "\n",
    "Nagu oleme näinud, on andmeanalüüsis tavaliselt mitu sammu: standardiseerimine/normaliseerimine, dimensionaalsuse vähendamine, ennustava mudeli treenimine ja kasutamine. Konveier ([Pipeline](https://scikit-learn.org/stable/modules/generated/sklearn.pipeline.Pipeline.html)) kombineerib erinevad transfomaatorid ja ennustajad kokku ühendobjektiks, mille liideses on muu hulgas  fit() ja transform() meetodid."
   ]
  },
  {
   "cell_type": "code",
   "execution_count": 1,
   "metadata": {},
   "outputs": [],
   "source": [
    "from sklearn.model_selection import train_test_split\n",
    "from sklearn.preprocessing import StandardScaler, MinMaxScaler\n",
    "from sklearn.decomposition import PCA\n",
    "from sklearn.linear_model import LogisticRegression\n",
    "from sklearn.pipeline import Pipeline\n",
    "import pandas as pd\n",
    "\n"
   ]
  },
  {
   "cell_type": "code",
   "execution_count": 2,
   "metadata": {},
   "outputs": [
    {
     "data": {
      "text/html": [
       "<div>\n",
       "<style scoped>\n",
       "    .dataframe tbody tr th:only-of-type {\n",
       "        vertical-align: middle;\n",
       "    }\n",
       "\n",
       "    .dataframe tbody tr th {\n",
       "        vertical-align: top;\n",
       "    }\n",
       "\n",
       "    .dataframe thead th {\n",
       "        text-align: right;\n",
       "    }\n",
       "</style>\n",
       "<table border=\"1\" class=\"dataframe\">\n",
       "  <thead>\n",
       "    <tr style=\"text-align: right;\">\n",
       "      <th></th>\n",
       "      <th>hair</th>\n",
       "      <th>feathers</th>\n",
       "      <th>eggs</th>\n",
       "      <th>milk</th>\n",
       "      <th>airborne</th>\n",
       "      <th>predator</th>\n",
       "      <th>toothed</th>\n",
       "      <th>backbone</th>\n",
       "      <th>breathes</th>\n",
       "      <th>venomous</th>\n",
       "      <th>fins</th>\n",
       "      <th>legs</th>\n",
       "      <th>tail</th>\n",
       "      <th>domestic</th>\n",
       "      <th>catsize</th>\n",
       "    </tr>\n",
       "    <tr>\n",
       "      <th>animal_name</th>\n",
       "      <th></th>\n",
       "      <th></th>\n",
       "      <th></th>\n",
       "      <th></th>\n",
       "      <th></th>\n",
       "      <th></th>\n",
       "      <th></th>\n",
       "      <th></th>\n",
       "      <th></th>\n",
       "      <th></th>\n",
       "      <th></th>\n",
       "      <th></th>\n",
       "      <th></th>\n",
       "      <th></th>\n",
       "      <th></th>\n",
       "    </tr>\n",
       "  </thead>\n",
       "  <tbody>\n",
       "    <tr>\n",
       "      <th>aardvark</th>\n",
       "      <td>1</td>\n",
       "      <td>0</td>\n",
       "      <td>0</td>\n",
       "      <td>1</td>\n",
       "      <td>0</td>\n",
       "      <td>1</td>\n",
       "      <td>1</td>\n",
       "      <td>1</td>\n",
       "      <td>1</td>\n",
       "      <td>0</td>\n",
       "      <td>0</td>\n",
       "      <td>4</td>\n",
       "      <td>0</td>\n",
       "      <td>0</td>\n",
       "      <td>1</td>\n",
       "    </tr>\n",
       "    <tr>\n",
       "      <th>antelope</th>\n",
       "      <td>1</td>\n",
       "      <td>0</td>\n",
       "      <td>0</td>\n",
       "      <td>1</td>\n",
       "      <td>0</td>\n",
       "      <td>0</td>\n",
       "      <td>1</td>\n",
       "      <td>1</td>\n",
       "      <td>1</td>\n",
       "      <td>0</td>\n",
       "      <td>0</td>\n",
       "      <td>4</td>\n",
       "      <td>1</td>\n",
       "      <td>0</td>\n",
       "      <td>1</td>\n",
       "    </tr>\n",
       "    <tr>\n",
       "      <th>bass</th>\n",
       "      <td>0</td>\n",
       "      <td>0</td>\n",
       "      <td>1</td>\n",
       "      <td>0</td>\n",
       "      <td>0</td>\n",
       "      <td>1</td>\n",
       "      <td>1</td>\n",
       "      <td>1</td>\n",
       "      <td>0</td>\n",
       "      <td>0</td>\n",
       "      <td>1</td>\n",
       "      <td>0</td>\n",
       "      <td>1</td>\n",
       "      <td>0</td>\n",
       "      <td>0</td>\n",
       "    </tr>\n",
       "    <tr>\n",
       "      <th>bear</th>\n",
       "      <td>1</td>\n",
       "      <td>0</td>\n",
       "      <td>0</td>\n",
       "      <td>1</td>\n",
       "      <td>0</td>\n",
       "      <td>1</td>\n",
       "      <td>1</td>\n",
       "      <td>1</td>\n",
       "      <td>1</td>\n",
       "      <td>0</td>\n",
       "      <td>0</td>\n",
       "      <td>4</td>\n",
       "      <td>0</td>\n",
       "      <td>0</td>\n",
       "      <td>1</td>\n",
       "    </tr>\n",
       "    <tr>\n",
       "      <th>boar</th>\n",
       "      <td>1</td>\n",
       "      <td>0</td>\n",
       "      <td>0</td>\n",
       "      <td>1</td>\n",
       "      <td>0</td>\n",
       "      <td>1</td>\n",
       "      <td>1</td>\n",
       "      <td>1</td>\n",
       "      <td>1</td>\n",
       "      <td>0</td>\n",
       "      <td>0</td>\n",
       "      <td>4</td>\n",
       "      <td>1</td>\n",
       "      <td>0</td>\n",
       "      <td>1</td>\n",
       "    </tr>\n",
       "    <tr>\n",
       "      <th>...</th>\n",
       "      <td>...</td>\n",
       "      <td>...</td>\n",
       "      <td>...</td>\n",
       "      <td>...</td>\n",
       "      <td>...</td>\n",
       "      <td>...</td>\n",
       "      <td>...</td>\n",
       "      <td>...</td>\n",
       "      <td>...</td>\n",
       "      <td>...</td>\n",
       "      <td>...</td>\n",
       "      <td>...</td>\n",
       "      <td>...</td>\n",
       "      <td>...</td>\n",
       "      <td>...</td>\n",
       "    </tr>\n",
       "    <tr>\n",
       "      <th>wallaby</th>\n",
       "      <td>1</td>\n",
       "      <td>0</td>\n",
       "      <td>0</td>\n",
       "      <td>1</td>\n",
       "      <td>0</td>\n",
       "      <td>0</td>\n",
       "      <td>1</td>\n",
       "      <td>1</td>\n",
       "      <td>1</td>\n",
       "      <td>0</td>\n",
       "      <td>0</td>\n",
       "      <td>2</td>\n",
       "      <td>1</td>\n",
       "      <td>0</td>\n",
       "      <td>1</td>\n",
       "    </tr>\n",
       "    <tr>\n",
       "      <th>wasp</th>\n",
       "      <td>1</td>\n",
       "      <td>0</td>\n",
       "      <td>1</td>\n",
       "      <td>0</td>\n",
       "      <td>1</td>\n",
       "      <td>0</td>\n",
       "      <td>0</td>\n",
       "      <td>0</td>\n",
       "      <td>1</td>\n",
       "      <td>1</td>\n",
       "      <td>0</td>\n",
       "      <td>6</td>\n",
       "      <td>0</td>\n",
       "      <td>0</td>\n",
       "      <td>0</td>\n",
       "    </tr>\n",
       "    <tr>\n",
       "      <th>wolf</th>\n",
       "      <td>1</td>\n",
       "      <td>0</td>\n",
       "      <td>0</td>\n",
       "      <td>1</td>\n",
       "      <td>0</td>\n",
       "      <td>1</td>\n",
       "      <td>1</td>\n",
       "      <td>1</td>\n",
       "      <td>1</td>\n",
       "      <td>0</td>\n",
       "      <td>0</td>\n",
       "      <td>4</td>\n",
       "      <td>1</td>\n",
       "      <td>0</td>\n",
       "      <td>1</td>\n",
       "    </tr>\n",
       "    <tr>\n",
       "      <th>worm</th>\n",
       "      <td>0</td>\n",
       "      <td>0</td>\n",
       "      <td>1</td>\n",
       "      <td>0</td>\n",
       "      <td>0</td>\n",
       "      <td>0</td>\n",
       "      <td>0</td>\n",
       "      <td>0</td>\n",
       "      <td>1</td>\n",
       "      <td>0</td>\n",
       "      <td>0</td>\n",
       "      <td>0</td>\n",
       "      <td>0</td>\n",
       "      <td>0</td>\n",
       "      <td>0</td>\n",
       "    </tr>\n",
       "    <tr>\n",
       "      <th>wren</th>\n",
       "      <td>0</td>\n",
       "      <td>1</td>\n",
       "      <td>1</td>\n",
       "      <td>0</td>\n",
       "      <td>1</td>\n",
       "      <td>0</td>\n",
       "      <td>0</td>\n",
       "      <td>1</td>\n",
       "      <td>1</td>\n",
       "      <td>0</td>\n",
       "      <td>0</td>\n",
       "      <td>2</td>\n",
       "      <td>1</td>\n",
       "      <td>0</td>\n",
       "      <td>0</td>\n",
       "    </tr>\n",
       "  </tbody>\n",
       "</table>\n",
       "<p>101 rows × 15 columns</p>\n",
       "</div>"
      ],
      "text/plain": [
       "             hair  feathers  eggs  milk  airborne  predator  toothed  \\\n",
       "animal_name                                                            \n",
       "aardvark        1         0     0     1         0         1        1   \n",
       "antelope        1         0     0     1         0         0        1   \n",
       "bass            0         0     1     0         0         1        1   \n",
       "bear            1         0     0     1         0         1        1   \n",
       "boar            1         0     0     1         0         1        1   \n",
       "...           ...       ...   ...   ...       ...       ...      ...   \n",
       "wallaby         1         0     0     1         0         0        1   \n",
       "wasp            1         0     1     0         1         0        0   \n",
       "wolf            1         0     0     1         0         1        1   \n",
       "worm            0         0     1     0         0         0        0   \n",
       "wren            0         1     1     0         1         0        0   \n",
       "\n",
       "             backbone  breathes  venomous  fins  legs  tail  domestic  catsize  \n",
       "animal_name                                                                     \n",
       "aardvark            1         1         0     0     4     0         0        1  \n",
       "antelope            1         1         0     0     4     1         0        1  \n",
       "bass                1         0         0     1     0     1         0        0  \n",
       "bear                1         1         0     0     4     0         0        1  \n",
       "boar                1         1         0     0     4     1         0        1  \n",
       "...               ...       ...       ...   ...   ...   ...       ...      ...  \n",
       "wallaby             1         1         0     0     2     1         0        1  \n",
       "wasp                0         1         1     0     6     0         0        0  \n",
       "wolf                1         1         0     0     4     1         0        1  \n",
       "worm                0         1         0     0     0     0         0        0  \n",
       "wren                1         1         0     0     2     1         0        0  \n",
       "\n",
       "[101 rows x 15 columns]"
      ]
     },
     "execution_count": 2,
     "metadata": {},
     "output_type": "execute_result"
    }
   ],
   "source": [
    "# Andmete laadimine, vaatame veeloomaks olekut ja ignoreerime tüüpi\n",
    "zoo_df = pd.read_csv(\"http://archive.ics.uci.edu/ml/machine-learning-databases/zoo/zoo.data\", \n",
    "                     header=None, index_col=0,\n",
    "                     names=[\"animal_name\", \"hair\", \"feathers\", \"eggs\", \"milk\", \"airborne\", \"aquatic\", \"predator\", \"toothed\", \"backbone\", \"breathes\", \"venomous\", \"fins\", \"legs\", \"tail\", \"domestic\", \"catsize\", \"type\" ])\n",
    "zoo_class =  zoo_df.pop(\"aquatic\")\n",
    "zoo_df.pop(\"type\")\n",
    "zoo_df"
   ]
  },
  {
   "cell_type": "markdown",
   "metadata": {},
   "source": [
    "Tekitame konveieri, mille sammudeks on standardiseerimine, PCA ja logistiline regressioon. Konveieri tekitamisel anname me sinna kaasa listi `(nimi, komponent)` paaridest. Nimi on vabalt valitav string."
   ]
  },
  {
   "cell_type": "code",
   "execution_count": 3,
   "metadata": {},
   "outputs": [],
   "source": [
    "X_train, X_test, y_train, y_test = train_test_split(zoo_df, \n",
    "                                                    zoo_class, \n",
    "                                                    test_size=0.2, \n",
    "                                                    random_state=1)\n",
    "\n",
    "pipe_lr = Pipeline([('sc1', StandardScaler()),\n",
    "                    ('pca', PCA(n_components=2)),\n",
    "                    ('clf', LogisticRegression(random_state=1))])\n",
    "\n"
   ]
  },
  {
   "cell_type": "markdown",
   "metadata": {},
   "source": [
    "Kui meie konveier `pipeline` koosneb n komponendist `p_1..., p_n`, \n",
    "siis selle `fit_transform()` meetod rakendab andmestikule `X` järjest komponentide `p1,... p_{n}` teisendusmeetodeid `fit_transform()`\n",
    "(kõigepealt `fit()`, seejärel `transform()`).\n"
   ]
  },
  {
   "cell_type": "markdown",
   "metadata": {},
   "source": [
    "Kui meie konveier `pipeline` koosneb n komponendist `p_1..., p_n`, siis selle `fit()` meetod rakendab andmestikule `X` järjest komponentide `p1,... p_{n-1}` teisendusmeetodeid `fit_transform()` (kõigepealt `fit()`, seejärel `transform()`) ja lõpuks viimase komponendi `p_n.fit(X, y)` meetodit, salvestades tulemuse.\n",
    "\n",
    "`pipeline.fit(X, y): \n",
    "                     p_n.fit(p_{n-1}.fit_transform(\n",
    "                              ...\n",
    "                             p_2.fit_transform(\n",
    "                             p_1.fit_transform(X))),...), y)`"
   ]
  },
  {
   "cell_type": "code",
   "execution_count": 4,
   "metadata": {},
   "outputs": [
    {
     "name": "stdout",
     "output_type": "stream",
     "text": [
      "Täpsus:  0.8095238095238095\n"
     ]
    }
   ],
   "source": [
    "pipe_lr.fit(X_train, y_train)\n",
    "print('Täpsus: ', pipe_lr.score(X_test, y_test))"
   ]
  },
  {
   "cell_type": "markdown",
   "metadata": {},
   "source": [
    "Kui meie konveier `pipeline` koosneb n komponendist `p_1..., p_n`, siis selle `predict()` meetod rakendab andmestikule `X` järjest komponentide `p1,... p_{n-1}` teisendusmeetodeid `transform()`ja lõpuks viimase komponendi `p_n.predict(X)` meetodit, salvestades tulemuse.\n",
    "\n",
    "`pipeline.predict(X): \n",
    "                 p_n.predict(p_{n-1}.transform(\n",
    "                              ...\n",
    "                             p_2.transform(\n",
    "                             p_1.transform(X))))`"
   ]
  },
  {
   "cell_type": "code",
   "execution_count": 5,
   "metadata": {},
   "outputs": [
    {
     "data": {
      "text/plain": [
       "0.8095238095238095"
      ]
     },
     "execution_count": 5,
     "metadata": {},
     "output_type": "execute_result"
    }
   ],
   "source": [
    "y_pred = pipe_lr.predict(X_test)\n",
    "sum(y_pred == y_test) / len(y_test)"
   ]
  },
  {
   "cell_type": "code",
   "execution_count": 6,
   "metadata": {},
   "outputs": [
    {
     "data": {
      "text/plain": [
       "21"
      ]
     },
     "execution_count": 6,
     "metadata": {},
     "output_type": "execute_result"
    }
   ],
   "source": [
    "len(y_pred)"
   ]
  },
  {
   "cell_type": "markdown",
   "metadata": {},
   "source": [
    "<a id='ristkontroll'></a>\n",
    "## Ristkontroll (cross-validation)\n",
    "\n",
    "$k$-kordne ristkontroll jagab andmestiku $k$ võrdseks juhuvalimiks, kus $k-1$ juhuvalimit kasutatakse treeninguks ja viimast juhuvalimit testimiseks. Seda protseduri korratakse k korda, kuni testitud on kõiki juhuvalimeid. Koguhinnang $E$ (täpsus vms) on keskmine hinnang üle $k$ hinnangu:\n",
    "\n",
    "$$E = \\frac{\\sum_{i=1}^k E_i}{k} $$\n",
    "\n",
    "Scikit-learn teegis on ristkontrolliks moodulis model_selection klassid, nagu [StratifiedKFold](https://scikit-learn.org/stable/modules/generated/sklearn.model_selection.StratifiedKFold.html#sklearn.model_selection.StratifiedKFold), mis võimaldavad täpsemat kontrolli iteratsiooniks üle $k$ valimi ja lihtsamat funktsiooni [cross_val_score](https://scikit-learn.org/stable/modules/generated/sklearn.model_selection.cross_val_score.html), mis tagastab täpsusskoorid iga $k$ valimi jaoks ja võimaldab paralleeltööd mitme protsessoriga (parameeter `n_jobs`)."
   ]
  },
  {
   "cell_type": "code",
   "execution_count": 7,
   "metadata": {},
   "outputs": [],
   "source": [
    "import numpy as np\n",
    "from sklearn.model_selection import cross_val_score, StratifiedKFold\n",
    "\n",
    "\n"
   ]
  },
  {
   "cell_type": "markdown",
   "metadata": {},
   "source": [
    "Parameeter `cv` on korduste/juhuvalimite arv.\n",
    "Parameeter `n_jobs` on lõimede/kasutatavate protsessorite arv."
   ]
  },
  {
   "cell_type": "code",
   "execution_count": 8,
   "metadata": {},
   "outputs": [],
   "source": [
    "#%%timeit # Jupyteri käsk ajakulu mõõtmiseks\n",
    "\n",
    "scores = cross_val_score(estimator=pipe_lr,\n",
    "                         X=X_train,\n",
    "                         y=y_train,\n",
    "                         cv=10,\n",
    "                         n_jobs=1)\n"
   ]
  },
  {
   "cell_type": "code",
   "execution_count": null,
   "metadata": {},
   "outputs": [],
   "source": []
  },
  {
   "cell_type": "code",
   "execution_count": 9,
   "metadata": {},
   "outputs": [
    {
     "name": "stdout",
     "output_type": "stream",
     "text": [
      "CV täpsused:  [1.    0.875 0.75  0.625 0.625 0.875 0.625 0.875 0.75  0.875]\n",
      "CV keskmine täpsus: 0.787 +/- 0.126\n"
     ]
    }
   ],
   "source": [
    "print('CV täpsused: ', scores)\n",
    "print('CV keskmine täpsus: %.3f' % np.mean(scores), \"+/- %.3f\" % np.std(scores))"
   ]
  },
  {
   "cell_type": "markdown",
   "metadata": {},
   "source": [
    "Meetod `StratifiedKFold.split(X, y)` tagastab listi paaridest `(treeningandmete_indeksid, testandmete_indeksid)`."
   ]
  },
  {
   "cell_type": "code",
   "execution_count": 10,
   "metadata": {},
   "outputs": [
    {
     "name": "stdout",
     "output_type": "stream",
     "text": [
      "objects: gorilla,housefly,honeybee,herring,lobster,ladybird,cheetah,bass\n",
      "score: 1.0\n",
      "objects: opossum,puma,seahorse,dolphin,fruitbat,mink,tortoise,wolf\n",
      "score: 0.875\n",
      "objects: penguin,octopus,moth,seal,flamingo,ostrich,raccoon,squirrel\n",
      "score: 0.75\n",
      "objects: haddock,swan,crayfish,kiwi,lion,worm,lark,pheasant\n",
      "score: 0.625\n",
      "objects: tuna,frog,flea,boar,pitviper,toad,mole,termite\n",
      "score: 0.625\n",
      "objects: duck,bear,wallaby,gnat,lynx,seawasp,catfish,aardvark\n",
      "score: 0.875\n",
      "objects: pike,tuatara,parakeet,elephant,piranha,platypus,wasp,clam\n",
      "score: 0.625\n",
      "objects: carp,pussycat,stingray,crab,girl,giraffe,chicken,dove\n",
      "score: 0.875\n",
      "objects: dogfish,mongoose,frog,calf,rhea,seasnake,antelope,crow\n",
      "score: 0.75\n",
      "objects: polecat,skua,buffalo,sealion,cavy,scorpion,chub,hawk\n",
      "score: 0.875\n"
     ]
    }
   ],
   "source": [
    "kfold = StratifiedKFold(n_splits=10)\n",
    "for train, test in kfold.split(X_train, y_train):\n",
    "    # Kuna StratifiedKFold tagastab täisarvulised indeksid, siis kasutame iloc-i.   print(\"test: \", \", \".join(X_train.iloc[test].index)) \n",
    "    pipe_lr.fit(X_train.iloc[train], y_train.iloc[train])\n",
    "    score = pipe_lr.score(X_train.iloc[test], y_train.iloc[test])\n",
    "    print(\"objects:\", \",\".join(X_train.iloc[test].index))\n",
    "    print(\"score:\", score)\n",
    "    "
   ]
  },
  {
   "cell_type": "markdown",
   "metadata": {},
   "source": [
    "<a id='7_1'></a>\n",
    "## Ülesanne 7.1\n",
    "\n",
    "\n",
    "* Tekitada komponentidest [SelectKBest](https://scikit-learn.org/stable/modules/generated/sklearn.feature_selection.SelectKBest.html) (parameeter`k=3`),\n",
    "[DecisionTreeClassifier](https://scikit-learn.org/stable/modules/generated/sklearn.tree.DecisionTreeClassifier.html) koosnev konveier, rakendada seda loomaaia andmetele ja hinnata selle täpsust (importida vajalikud moodulid ja klassid).\n",
    "\n",
    "\n",
    "* Tekitada komponentidest [StandardScaler](https://scikit-learn.org/stable/modules/generated/sklearn.preprocessing.StandardScaler.html), \n",
    "[PCA](https://scikit-learn.org/stable/modules/generated/sklearn.decomposition.PCA.html) (parameeter `n_components=2`),\n",
    "[Perceptron](https://scikit-learn.org/stable/modules/generated/sklearn.linear_model.Perceptron.html) koosnev konveier, rakendada seda loomaaia andmetele ja hinnata selle täpsust.\n",
    "\n",
    " \n",
    "* Hinnata [SelectKBest](https://scikit-learn.org/stable/modules/generated/sklearn.feature_selection.SelectKBest.html),\n",
    "[DecisionTreeClassifier](https://scikit-learn.org/stable/modules/generated/sklearn.tree.DecisionTreeClassifier.html) konveieri täpsust 10x ristkontrolliga.\n",
    "\n",
    "\n",
    "* Hinnata [StandardScaler](https://scikit-learn.org/stable/modules/generated/sklearn.preprocessing.StandardScaler.html), \n",
    "[PCA](https://scikit-learn.org/stable/modules/generated/sklearn.decomposition.PCA.html),\n",
    "[Perceptron](https://scikit-learn.org/stable/modules/generated/sklearn.linear_model.Perceptron.html)  konveieri täpsust 10x ristkontrolliga."
   ]
  },
  {
   "cell_type": "code",
   "execution_count": 11,
   "metadata": {},
   "outputs": [],
   "source": [
    "from sklearn.pipeline import Pipeline\n",
    "from sklearn.feature_selection import SelectKBest\n",
    "from sklearn.tree import DecisionTreeClassifier\n",
    "from sklearn.decomposition import PCA\n",
    "from sklearn.linear_model import Perceptron\n",
    "\n",
    "\n",
    "pipe_k_best_classifier = Pipeline([('skb', SelectKBest(k=3)),\n",
    "                                   ('dtc', DecisionTreeClassifier())])\n",
    "pipe_scl_pca_perception = Pipeline([('scl', StandardScaler()),\n",
    "                                    ('pca', PCA(n_components=2)),\n",
    "                                    ('prc', Perceptron())])\n",
    "\n"
   ]
  },
  {
   "cell_type": "code",
   "execution_count": 12,
   "metadata": {},
   "outputs": [
    {
     "name": "stdout",
     "output_type": "stream",
     "text": [
      "KBestClassifier: 0.875 +/- 0.079\n",
      "PcaPerceptron: 0.738 +/- 0.153\n"
     ]
    }
   ],
   "source": [
    "scores_k_best_classifier = cross_val_score(estimator=pipe_k_best_classifier,\n",
    "                                             X=X_train,\n",
    "                                             y=y_train,\n",
    "                                             cv=10,\n",
    "                                             n_jobs=1)\n",
    "scores_scl_pca_perception = cross_val_score(estimator=pipe_scl_pca_perception,\n",
    "                                             X=X_train,\n",
    "                                             y=y_train,\n",
    "                                             cv=10,\n",
    "                                             n_jobs=1)\n",
    "\n",
    "print('KBestClassifier: %.3f' % np.mean(scores_k_best_classifier), \"+/- %.3f\" % np.std(scores_k_best_classifier))\n",
    "print('PcaPerceptron: %.3f' % np.mean(scores_scl_pca_perception), \"+/- %.3f\" % np.std(scores_scl_pca_perception))"
   ]
  },
  {
   "cell_type": "markdown",
   "metadata": {},
   "source": [
    "<a id='õppimiskõverad'></a>\n",
    "## Õppimiskõverad\n",
    "\n",
    "\n",
    "Õppimiskõver näitab treening- ja testtäpsuse sõltuvust andmestiku suurusest. See võimaldab hinnata kuivõrd paraneks täpsus andmemahtu suurendades."
   ]
  },
  {
   "cell_type": "code",
   "execution_count": 13,
   "metadata": {},
   "outputs": [],
   "source": [
    "from sklearn.model_selection import learning_curve\n",
    "from sklearn.preprocessing import MinMaxScaler\n",
    "\n",
    "pipe_lr = Pipeline([('scl', StandardScaler()),\n",
    "                    ('clf', LogisticRegression(penalty='l2', max_iter=100, random_state=0))])\n",
    "pipe_lr_norm = Pipeline([('nrm', MinMaxScaler()),\n",
    "                         ('clf', LogisticRegression(penalty='l2', max_iter=100, random_state=0))])\n",
    "\n"
   ]
  },
  {
   "cell_type": "code",
   "execution_count": 14,
   "metadata": {},
   "outputs": [
    {
     "name": "stdout",
     "output_type": "stream",
     "text": [
      "train sizes: [ 7 23 39 55 72]\n",
      "train scores:\n",
      " [[0.857 1.    1.    1.    1.    1.    1.    1.    1.    1.   ]\n",
      " [0.913 0.957 0.957 0.957 0.913 0.913 0.913 0.913 0.913 0.913]\n",
      " [0.923 0.949 0.949 0.949 0.923 0.949 0.949 0.949 0.949 0.949]\n",
      " [0.891 0.909 0.909 0.909 0.927 0.927 0.927 0.909 0.909 0.909]\n",
      " [0.889 0.917 0.903 0.903 0.889 0.903 0.931 0.889 0.903 0.903]]\n",
      "test scores:\n",
      " [[1.    0.75  0.75  0.875 0.75  0.875 0.75  1.    0.875 0.75 ]\n",
      " [0.875 0.875 0.75  0.75  0.625 0.875 0.75  1.    0.625 0.875]\n",
      " [1.    0.875 0.875 0.75  0.75  0.875 0.75  1.    0.875 0.875]\n",
      " [1.    0.875 0.75  0.75  0.75  0.875 0.75  1.    0.875 0.875]\n",
      " [1.    0.875 0.875 0.75  0.75  0.875 0.625 1.    0.875 0.875]]\n",
      "train sizes norm: [ 7 23 39 55 72]\n",
      "train scores norm:\n",
      " [[0.857 1.    1.    1.    1.    1.    1.    1.    1.    1.   ]\n",
      " [0.913 0.957 0.87  0.957 0.913 0.913 0.913 0.913 0.913 0.913]\n",
      " [0.872 0.897 0.872 0.897 0.923 0.897 0.897 0.897 0.897 0.897]\n",
      " [0.891 0.891 0.873 0.891 0.909 0.909 0.909 0.909 0.909 0.909]\n",
      " [0.875 0.875 0.875 0.875 0.889 0.903 0.889 0.875 0.903 0.889]]\n",
      "test scores norm:\n",
      " [[0.875 0.75  0.625 0.875 0.75  0.875 0.75  1.    0.875 0.75 ]\n",
      " [0.875 0.875 0.875 0.875 0.75  0.875 0.625 1.    0.75  0.875]\n",
      " [1.    0.875 0.75  0.75  0.625 0.875 0.75  1.    1.    0.75 ]\n",
      " [1.    0.875 0.875 0.75  0.75  0.875 0.75  1.    0.875 0.75 ]\n",
      " [1.    0.875 0.875 0.875 0.75  0.875 0.625 1.    0.875 0.75 ]]\n"
     ]
    }
   ],
   "source": [
    "\n",
    "\n",
    "train_sizes, train_scores, test_scores =\\\n",
    "                learning_curve(estimator=pipe_lr,\n",
    "                               X=X_train,\n",
    "                               y=y_train,\n",
    "                               train_sizes=np.linspace(0.1, 1.0, 5),\n",
    "                               scoring='accuracy',\n",
    "                               cv=10,\n",
    "                               n_jobs=1)\n",
    "\n",
    "train_sizes_norm, train_scores_norm, test_scores_norm =\\\n",
    "                learning_curve(estimator=pipe_lr_norm,\n",
    "                               X=X_train,\n",
    "                               y=y_train,\n",
    "                               train_sizes=np.linspace(0.1, 1.0, 5),\n",
    "                               scoring='accuracy',\n",
    "                               cv=10,\n",
    "                               n_jobs=1)\n",
    "\n",
    "\n",
    "print(\"train sizes:\", train_sizes)\n",
    "print(\"train scores:\\n\", np.round(train_scores, 3))\n",
    "print(\"test scores:\\n\", np.round(test_scores, 3))\n",
    "print(\"train sizes norm:\", train_sizes_norm)\n",
    "print(\"train scores norm:\\n\", np.round(train_scores_norm, 3))\n",
    "print(\"test scores norm:\\n\", np.round(test_scores_norm, 3))\n"
   ]
  },
  {
   "cell_type": "code",
   "execution_count": 15,
   "metadata": {},
   "outputs": [],
   "source": [
    "train_mean = np.mean(train_scores, axis=1)\n",
    "train_std = np.std(train_scores, axis=1)\n",
    "test_mean = np.mean(test_scores, axis=1)\n",
    "test_std = np.std(test_scores, axis=1)\n",
    "\n",
    "train_mean_norm = np.mean(train_scores_norm, axis=1)\n",
    "train_std_norm = np.std(train_scores_norm, axis=1)\n",
    "test_mean_norm = np.mean(test_scores_norm, axis=1)\n",
    "test_std_norm = np.std(test_scores_norm, axis=1)"
   ]
  },
  {
   "cell_type": "code",
   "execution_count": 16,
   "metadata": {
    "scrolled": true
   },
   "outputs": [
    {
     "data": {
      "image/png": "[encoded data removed]",
      "text/plain": [
       "<Figure size 432x288 with 1 Axes>"
      ]
     },
     "metadata": {
      "needs_background": "light"
     },
     "output_type": "display_data"
    }
   ],
   "source": [
    "# Kood: https://github.com/rasbt/python-machine-learning-book/blob/master/code/ch06/ch06.ipynb\n",
    "# S.Raschka, Python Machine Learning\n",
    "\n",
    "import matplotlib.pyplot as plt\n",
    "\n",
    "\n",
    "%matplotlib inline\n",
    "\n",
    "\n",
    "\n",
    "plt.plot(train_sizes, train_mean,\n",
    "         color='blue', marker='o',\n",
    "         markersize=5, label='training accuracy')\n",
    "\n",
    "plt.fill_between(train_sizes,\n",
    "                 train_mean + train_std,\n",
    "                 train_mean - train_std,\n",
    "                 alpha=0.15, color='blue')\n",
    "\n",
    "plt.plot(train_sizes, test_mean,\n",
    "         color='green', linestyle='--',\n",
    "         marker='s', markersize=5,\n",
    "         label='validation accuracy')\n",
    "\n",
    "plt.fill_between(train_sizes,\n",
    "                 test_mean + test_std,\n",
    "                 test_mean - test_std,\n",
    "                 alpha=0.15, color='green')\n",
    "\n",
    "plt.plot(train_sizes_norm, train_mean_norm,\n",
    "         color='red', marker='o',\n",
    "         markersize=5, label='training accuracy norm')\n",
    "\n",
    "plt.fill_between(train_sizes_norm,\n",
    "                 train_mean_norm + train_std_norm,\n",
    "                 train_mean_norm - train_std_norm,\n",
    "                 alpha=0.15, color='red')\n",
    "\n",
    "plt.plot(train_sizes_norm, test_mean_norm,\n",
    "         color='orange', linestyle='--',\n",
    "         marker='s', markersize=5,\n",
    "         label='validation accuracy norm')\n",
    "\n",
    "plt.fill_between(train_sizes_norm,\n",
    "                 test_mean_norm + test_std_norm,\n",
    "                 test_mean_norm - test_std_norm,\n",
    "                 alpha=0.15, color='orange')\n",
    "\n",
    "plt.grid()\n",
    "plt.xlabel('Number of training samples')\n",
    "plt.ylabel('Accuracy')\n",
    "plt.legend(loc='lower right')\n",
    "plt.ylim([0.5, 1.0])\n",
    "plt.tight_layout()\n",
    "# plt.savefig('./figures/learning_curve.png', dpi=300)\n",
    "plt.show()"
   ]
  },
  {
   "cell_type": "markdown",
   "metadata": {},
   "source": [
    "<a id='validatsioonikõverad'></a>\n",
    "##  Validatsioonikõverad (*validation curves*)\n",
    "\n",
    "\n",
    "Validatsioonikõver näitab treening- ja testtäpsuse sõltuvust klassifikaatori teatud treeningparameetrist. See võimaldab hinnata selle parameetri mõju ja optimaalset väärtust."
   ]
  },
  {
   "cell_type": "code",
   "execution_count": 17,
   "metadata": {},
   "outputs": [
    {
     "data": {
      "image/png": "[encoded data removed]",
      "text/plain": [
       "<Figure size 432x288 with 1 Axes>"
      ]
     },
     "metadata": {
      "needs_background": "light"
     },
     "output_type": "display_data"
    }
   ],
   "source": [
    "from sklearn.model_selection import validation_curve\n",
    "\n",
    "#param_range = [0.001, 0.01, 0.1, 1.0, 10.0, 100.0]\n",
    "param_range = np.linspace(0.01, 1, 50)\n",
    "train_scores, test_scores = validation_curve(\n",
    "                estimator=pipe_lr, \n",
    "                X=X_train, \n",
    "                y=y_train, \n",
    "                param_name='clf__C', #formaat: KonveieriKomponendiNimi__ParameetriNimi\n",
    "                param_range=param_range,\n",
    "                cv=10)\n",
    "\n",
    "train_mean = np.mean(train_scores, axis=1)\n",
    "train_std = np.std(train_scores, axis=1)\n",
    "test_mean = np.mean(test_scores, axis=1)\n",
    "test_std = np.std(test_scores, axis=1)\n",
    "\n",
    "plt.plot(param_range, train_mean, \n",
    "         color='blue', marker='o', \n",
    "         markersize=5, label='training accuracy')\n",
    "\n",
    "plt.fill_between(param_range, train_mean + train_std,\n",
    "                 train_mean - train_std, alpha=0.15,\n",
    "                 color='blue')\n",
    "\n",
    "plt.plot(param_range, test_mean, \n",
    "         color='green', linestyle='--', \n",
    "         marker='s', markersize=5, \n",
    "         label='validation accuracy')\n",
    "\n",
    "plt.fill_between(param_range, \n",
    "                 test_mean + test_std,\n",
    "                 test_mean - test_std, \n",
    "                 alpha=0.15, color='green')\n",
    "\n",
    "plt.grid()\n",
    "#plt.xscale('log')\n",
    "plt.legend(loc='lower right')\n",
    "plt.xlabel('Parameter C')\n",
    "plt.ylabel('Accuracy')\n",
    "plt.ylim([0.5, 1.0])\n",
    "plt.tight_layout()\n",
    "# plt.savefig('./figures/validation_curve.png', dpi=300)\n",
    "plt.show()"
   ]
  },
  {
   "cell_type": "markdown",
   "metadata": {},
   "source": [
    "<a id='hüper'></a>\n",
    "## Hüperparameetrite tuunimine\n",
    "\n",
    "Ennustavatel mudelitel on tüüpiliselt hulk parameetreid, mille abil juhitakse treeningprotsessi, mida võib nimetada hüperparameetriteks. Need erinevad parameetritest, mida treenitakse (närvivõrgu kaalud jms) ja nende seadistusest võib sõltuda mudeli headus. Hüperparameetrite tuunimine tähendab mingi mõõdiku järgi (täpsus vms) optimaalsete parameetrite automaatset otsingut.\n",
    "\n",
    "Scikit-learn pakub selleks klasse, nagu [GridSearchCV](https://scikit-learn.org/stable/modules/grid_search.html)."
   ]
  },
  {
   "cell_type": "code",
   "execution_count": 18,
   "metadata": {},
   "outputs": [
    {
     "name": "stdout",
     "output_type": "stream",
     "text": [
      "0.875\n",
      "{'clf__C': 0.35346938775510206, 'clf__penalty': 'l2'}\n"
     ]
    }
   ],
   "source": [
    "from sklearn.model_selection import GridSearchCV\n",
    "\n",
    "param_grid = [{'clf__C': param_range, \n",
    "               'clf__penalty': ['l1', 'l2']}]\n",
    "\n",
    "gs = GridSearchCV(estimator=pipe_lr, \n",
    "                  param_grid=param_grid, \n",
    "                  scoring='accuracy', \n",
    "                  cv=10,\n",
    "                  n_jobs=-1)\n",
    "gs = gs.fit(X_train, y_train)\n",
    "print(gs.best_score_)\n",
    "print(gs.best_params_)"
   ]
  },
  {
   "cell_type": "code",
   "execution_count": 19,
   "metadata": {},
   "outputs": [],
   "source": [
    "pipe_lr_tuned = Pipeline([('sc1', StandardScaler()),\n",
    "                    ('clf', LogisticRegression(C=0.35, penalty='l2', random_state=1))])\n",
    "\n",
    "# Olemasolevat Pipeline objekti saaks lühidalt muuta nii:\n",
    "# pipe_lr.set_params(**gs.best_params_)"
   ]
  },
  {
   "cell_type": "markdown",
   "metadata": {},
   "source": [
    "<a id='Eksimismaatriks'></a>\n",
    "## Eksimismaatriks (*confusion matrix*)\n",
    "\n",
    "Eksimismaatriks on 2x2 maatriks: ennustatud klass võib olla positiivne või negatiivne, tegelik klass võib olla positiivne või negatiivne. Ideaalis langevad ennustatud ja tegelikud väärtused alati kokku, aga kui mitte, siis võib olla oluline, mis tüüpi vigadega on valdavalt tegemist: kas **valepositiivsete** või **valenegatiivsete** tulemustega. Erineval veal võivad olla erinevad kaalud (haiguse tuvastamata jätmine on tavaliselt tõsisem probleem kui ekslik positiivne diagnoos), klasside jaotus ei pruugi olla 50:50, mis muudab täpsuse vahel eksitavaks mõõduks (mudel, mis ennustab alati sagedaseimat tulemust näitab head täpsust) jne. \n",
    "\n",
    "`\n",
    " |           | Ennustatud P         | Ennustatud N         |\n",
    " |-----------|----------------------|----------------------|\n",
    " | Tegelik P | Õige positiivne (TP) | Vale negatiivne (FN) |\n",
    " |-----------|----------------------|----------------------|\n",
    " | Tegelik N | Vale positiivne (FP) | Õige negatiivne (TN) |\n",
    " |-----------|----------------------|----------------------|`\n",
    " \n"
   ]
  },
  {
   "cell_type": "markdown",
   "metadata": {},
   "source": [
    "Vaatame järgnevalt, kuidas klassid jaotuvad meie andmetes."
   ]
  },
  {
   "cell_type": "code",
   "execution_count": 20,
   "metadata": {},
   "outputs": [
    {
     "data": {
      "text/plain": [
       "array([65, 36])"
      ]
     },
     "execution_count": 20,
     "metadata": {},
     "output_type": "execute_result"
    }
   ],
   "source": [
    "np.bincount(zoo_class)"
   ]
  },
  {
   "cell_type": "markdown",
   "metadata": {},
   "source": [
    "Näeme, et ca 2/3 loomadest pole veeloomad ja 1/3 on, seega klassid pole jaotunud ühtlaselt."
   ]
  },
  {
   "cell_type": "markdown",
   "metadata": {},
   "source": [
    " Scikit-learn moodul metrics pakub eksimismaatriksi genereerimiseks funktsiooni [confusion_matrix](https://scikit-learn.org/stable/modules/generated/sklearn.metrics.confusion_matrix.html#sklearn.metrics.confusion_matrix)."
   ]
  },
  {
   "cell_type": "code",
   "execution_count": 21,
   "metadata": {},
   "outputs": [
    {
     "name": "stdout",
     "output_type": "stream",
     "text": [
      "[[ 3  3]\n",
      " [ 0 15]]\n"
     ]
    }
   ],
   "source": [
    "from sklearn.metrics import confusion_matrix\n",
    "\n",
    "pipe_lr_tuned.fit(X_train, y_train)\n",
    "y_pred = pipe_lr_tuned.predict(X_test)\n",
    "confmat = confusion_matrix(y_true=y_test, y_pred=y_pred, labels=[1, 0])\n",
    "print(confmat)"
   ]
  },
  {
   "cell_type": "markdown",
   "metadata": {},
   "source": [
    "Väärtuste $TP, TN, FP, FN$ on võimalik defineerida järgmised mõõdikud: \n",
    "\n",
    "\n",
    "Ennustusviga (ERR) ja täpsus (ACC):"
   ]
  },
  {
   "cell_type": "markdown",
   "metadata": {},
   "source": [
    "$$ ERR = \\frac{FP + FN}{FP + FN + TP + TN} $$\n",
    "\n",
    "\n",
    "$$ ACC = \\frac{TP + TN}{FP + FN + TP + TN} = 1 - ERR $$\n",
    "\n",
    "Näitavad, milline osa ennustustest vastas või ei vastanud tegelikkusele."
   ]
  },
  {
   "cell_type": "markdown",
   "metadata": {},
   "source": [
    "Tundlikkus ehk õige-positiivsete määr (TPR), tuntud ka  kui täielikkus (Recall REC):\n",
    "\n",
    "$$ TPR = REC = \\frac{TP}{FN + TP}$$\n",
    "\n",
    "Näitab, milline osa ennustatud positiivsetest olid tegelikult positiivsed.\n",
    "\n",
    "Spetsiifilisus ehk õige-negatiivsete määr (TNR):\n",
    "\n",
    "$$ TNR = \\frac{TN}{FP + TN}$$\n",
    "\n",
    "Näitab, milline osa ennustatud negatiivsetest olid tegelikult negatiivsed."
   ]
  },
  {
   "cell_type": "markdown",
   "metadata": {},
   "source": [
    "Positiivne ennustusvõime (PPV, Precision, PRE):\n",
    "\n",
    "$$ PRE = \\frac {TP} {TP+FP} $$\n",
    "\n",
    "Näitab, milline osa tegelikest positiivsetest ennustati positiivseteks.\n",
    "\n",
    "\n",
    "Negatiivne ennustusvõime (NPV):\n",
    "\n",
    "$$ NPV = \\frac {TN} {TN+FN} $$\n",
    "\n",
    "Näitab, milline osa tegelikest negatiivsetest ennustati negatiivseteks.\n",
    "\n",
    "Tihti kombineeritakse $PRE$ ja $REC$ nn $F1$ skooriks:\n",
    "\n",
    "$$ F1 = 2 \\frac{PRE \\times REC} {PRE + REC} $$"
   ]
  },
  {
   "cell_type": "markdown",
   "metadata": {},
   "source": [
    "Vastavad funktsioonid nende mõõdikute leidmiseks on saadaval moodulis [sklearn.metrics](https://scikit-learn.org/stable/modules/model_evaluation.html#classification-metrics).\n"
   ]
  },
  {
   "cell_type": "code",
   "execution_count": 22,
   "metadata": {},
   "outputs": [
    {
     "name": "stdout",
     "output_type": "stream",
     "text": [
      "Precision: 1.0\n",
      "Recall: 0.5\n",
      "F1: 0.6666666666666666\n"
     ]
    }
   ],
   "source": [
    "from sklearn.metrics import precision_score, recall_score, f1_score\n",
    "\n",
    "print(\"Precision:\", precision_score(y_true=y_test, y_pred=y_pred))\n",
    "print(\"Recall:\", recall_score(y_true=y_test, y_pred=y_pred))\n",
    "print(\"F1:\", f1_score(y_true=y_test, y_pred=y_pred))"
   ]
  },
  {
   "cell_type": "markdown",
   "metadata": {},
   "source": [
    "<a id='roc'></a>\n",
    "## ROC kõver\n",
    "\n",
    "\n",
    "Kui meetod väljastab klassi asemel tõenäosushinnangu vahemikus 0..1, siis kerkib küsimus, milline lävi oleks sobilik klassikuuluvuse osas positiivse otsuse tegemiseks? 0.5 on intuitiivne lävi, aga ei pruugi olla parim, eriti kui valepositiivse ja valenegatiivse tulemuse \"hind\" pole võrdne. Suurendades läve vähendame valepositiivsete tulemuste arvu, aga samas ka õigete positiivsete tulemuste  arvu. ROC kõver visualiseerib seda olukorda, näidates x-teljel vale-positiivsete tulemuste ja y-teljel õigete positiivsete tulemuste protsenti. Läve enda väärtust telgedel otse näha ei ole, lävi on kõvera vastavas punktis see, mis annab tulemuseks punkti poolt määratud õige/vale - positiivsete tulemuste arvu.\n",
    "\n",
    "Optimaalsed läved minimeerivad kaugust koordinaatide vasakust ülanurgast (õiged positiivsed: 100%, valepositiivsed 0%).\n",
    "\n",
    "Klassifikaatori summaarse headuse mõõduna kasuatakse tihti ka kõvera aluse pindala (*area-under-curve*) mõõtu.\n"
   ]
  },
  {
   "cell_type": "code",
   "execution_count": 23,
   "metadata": {},
   "outputs": [
    {
     "name": "stdout",
     "output_type": "stream",
     "text": [
      "Tõenäosused:  [[0.95667454 0.04332546]\n",
      " [0.65482552 0.34517448]\n",
      " [0.9341887  0.0658113 ]\n",
      " [0.80293862 0.19706138]\n",
      " [0.95667454 0.04332546]\n",
      " [0.27568831 0.72431169]\n",
      " [0.9341887  0.0658113 ]\n",
      " [0.80293862 0.19706138]\n",
      " [0.03340905 0.96659095]\n",
      " [0.58600474 0.41399526]\n",
      " [0.54945842 0.45054158]\n",
      " [0.86857786 0.13142214]\n",
      " [0.97813389 0.02186611]\n",
      " [0.96130157 0.03869843]\n",
      " [0.97813389 0.02186611]\n",
      " [0.98583262 0.01416738]\n",
      " [0.20763159 0.79236841]\n",
      " [0.97813389 0.02186611]\n",
      " [0.87443914 0.12556086]\n",
      " [0.60225661 0.39774339]\n",
      " [0.65482552 0.34517448]]\n",
      "ROC kõvera alune pindala: 0.9444444444444445\n"
     ]
    }
   ],
   "source": [
    "from sklearn.metrics import roc_auc_score\n",
    "y_pp = pipe_lr_tuned.predict_proba(X_test)\n",
    "print(\"Tõenäosused: \", y_pp)\n",
    "print(\"ROC kõvera alune pindala:\", roc_auc_score(y_true=y_test, y_score=y_pp[:,1]))"
   ]
  },
  {
   "cell_type": "code",
   "execution_count": 24,
   "metadata": {},
   "outputs": [
    {
     "data": {
      "image/png": "[encoded data removed]",
      "text/plain": [
       "<Figure size 504x360 with 1 Axes>"
      ]
     },
     "metadata": {
      "needs_background": "light"
     },
     "output_type": "display_data"
    }
   ],
   "source": [
    "from sklearn.metrics import roc_curve, auc\n",
    "from numpy import interp\n",
    "\n",
    "pipe_lr = Pipeline([('scl', StandardScaler()),\n",
    "                    ('pca', PCA(n_components=2)),\n",
    "                    ('clf', LogisticRegression(penalty='l2', \n",
    "                                               random_state=0, \n",
    "                                               C=0.35))])\n",
    "\n",
    "#pipe_lr = pipe_lr_tuned\n",
    "\n",
    "#X_train2 = X_train.iloc[:, [4, 14]]\n",
    "\n",
    "X_train2 = X_train[:]\n",
    "\n",
    "cv = list(StratifiedKFold(n_splits=3).split(X_train, y_train))\n",
    "\n",
    "fig = plt.figure(figsize=(7, 5))\n",
    "\n",
    "mean_tpr = 0.0\n",
    "mean_fpr = np.linspace(0, 1, 100)\n",
    "all_tpr = []\n",
    "\n",
    "for i, (train, test) in enumerate(cv):\n",
    "    probas = pipe_lr.fit(X_train2.iloc[train],\n",
    "                         y_train.iloc[train]).predict_proba(X_train2.iloc[test])\n",
    "\n",
    "    fpr, tpr, thresholds = roc_curve(y_train[test],\n",
    "                                     probas[:, 1],\n",
    "                                     pos_label=1)\n",
    "    mean_tpr += interp(mean_fpr, fpr, tpr)\n",
    "    mean_tpr[0] = 0.0\n",
    "    roc_auc = auc(fpr, tpr)\n",
    "    plt.plot(fpr,\n",
    "             tpr,\n",
    "             lw=1,\n",
    "             label='ROC fold %d (area = %0.2f)'\n",
    "                   % (i+1, roc_auc))\n",
    "\n",
    "plt.plot([0, 1],\n",
    "         [0, 1],\n",
    "         linestyle='--',\n",
    "         color=(0.6, 0.6, 0.6),\n",
    "         label='random guessing')\n",
    "\n",
    "mean_tpr /= len(cv)\n",
    "mean_tpr[-1] = 1.0\n",
    "mean_auc = auc(mean_fpr, mean_tpr)\n",
    "plt.plot(mean_fpr, mean_tpr, 'k--',\n",
    "         label='mean ROC (area = %0.2f)' % mean_auc, lw=2)\n",
    "plt.plot([0, 0, 1],\n",
    "         [0, 1, 1],\n",
    "         lw=2,\n",
    "         linestyle=':',\n",
    "         color='black',\n",
    "         label='perfect performance')\n",
    "\n",
    "plt.xlim([-0.05, 1.05])\n",
    "plt.ylim([-0.05, 1.05])\n",
    "plt.xlabel('false positive rate')\n",
    "plt.ylabel('true positive rate')\n",
    "plt.title('Receiver Operator Characteristic')\n",
    "plt.legend(loc=\"lower right\")\n",
    "\n",
    "plt.tight_layout()\n",
    "# plt.savefig('./figures/roc.png', dpi=300)\n",
    "plt.show()"
   ]
  },
  {
   "cell_type": "markdown",
   "metadata": {},
   "source": [
    "<a id='7_2'></a>\n",
    "## Ülesanne 7.2\n",
    "\n",
    "\n",
    "\n",
    "* Joonistada õppimis- ja validatsioonikõverad kasutades standardiseerimise asemel normaliseerimist ([MinMaxScaler](https://scikit-learn.org/stable/modules/generated/sklearn.preprocessing.MinMaxScaler.html)). \n",
    "\n",
    "* Tuunida [GridSearchCV](https://scikit-learn.org/stable/modules/generated/sklearn.model_selection.GridSearchCV.html?highlight=gridsearchcv#sklearn.model_selection.GridSearchCV) või muu sarnase klassi abil järgmiste konveierite järgmised hüperparameetrid:\n",
    "    * [SelectKBest](https://scikit-learn.org/stable/modules/generated/sklearn.feature_selection.SelectKBest.html): k,\n",
    "[DecisionTreeClassifier](https://scikit-learn.org/stable/modules/generated/sklearn.tree.DecisionTreeClassifier.html): criterion, max_depth.\n",
    "    * [StandardScaler](https://scikit-learn.org/stable/modules/generated/sklearn.preprocessing.StandardScaler.html), \n",
    "[PCA](https://scikit-learn.org/stable/modules/generated/sklearn.decomposition.PCA.html): n_components,\n",
    "[Perceptron](https://scikit-learn.org/stable/modules/generated/sklearn.linear_model.Perceptron.html): eta0, max_iter, penalty. Siin tasub olla ettevaatlik valikutest tulenevate kombinatsioonide arvuga, muidu võib tööaeg kujuneda pikaks.\n",
    "\n",
    "* Seadistada need kaks konveierit leitud optimaalsete hüperparameetritega ja leida neile eksimismaatriksid. Milline kahest mõõdikust - $REC, PRE$ - on väikseima väärtusega? Arvutada ja esitada selle väärtus (kas peast maatriksi põhjal või funktsiooniga). \n",
    "\n",
    "* Anda hüperparameetrite tuunija (GridSearch vms) parameetrile scoring väärtus, mis vastab väikseima väärtusega mõõdikule (`scoring='precision', scoring='recall'`). Leida sellega uued parimad hüperparameetrite väärtused, seadistada ja treenida nendega vastav konveier ja arvutada uus eksimismaatriks. Kas ja mis muutus?"
   ]
  },
  {
   "cell_type": "code",
   "execution_count": 26,
   "metadata": {},
   "outputs": [
    {
     "name": "stdout",
     "output_type": "stream",
     "text": [
      "0.875\n",
      "{'dtc__criterion': 'gini', 'dtc__max_depth': 2, 'skb__k': 2}\n"
     ]
    }
   ],
   "source": [
    "from sklearn.model_selection import GridSearchCV\n",
    "\n",
    "param_grid_kbest_classifier = [{'skb__k': np.arange(1, len(zoo_df.columns)),\n",
    "                                'dtc__criterion': ['gini', 'entropy'],\n",
    "                                'dtc__max_depth': np.arange(1, len(zoo_df.columns))}]\n",
    "\n",
    "gs_k_best_classifier = GridSearchCV(estimator=pipe_k_best_classifier, \n",
    "                                  param_grid=param_grid_kbest_classifier, \n",
    "                                  scoring='accuracy', \n",
    "                                  cv=10,\n",
    "                                  n_jobs=4)\n",
    "\n",
    "gs_k_best_classifier = gs_k_best_classifier.fit(X_train, y_train)\n",
    "print(gs_k_best_classifier.best_score_)\n",
    "print(gs_k_best_classifier.best_params_)"
   ]
  },
  {
   "cell_type": "code",
   "execution_count": 29,
   "metadata": {},
   "outputs": [
    {
     "name": "stdout",
     "output_type": "stream",
     "text": [
      "0.7625\n",
      "{'pca__n_components': 2, 'prc__eta0': 0.01, 'prc__max_iter': 100, 'prc__penalty': 'l1'}\n"
     ]
    }
   ],
   "source": [
    "param_grid_scl_pca_perception = [{'pca__n_components': np.arange(1, int(len(zoo_df.columns)**0.5)),\n",
    "                                'prc__eta0': np.linspace(0.01, 1, 10),\n",
    "                                'prc__max_iter': np.arange(100, 2000, step=100),\n",
    "                                'prc__penalty': ['l2', 'l1', 'elasticnet']}]\n",
    "\n",
    "gs_scl_pca_perception = GridSearchCV(estimator=pipe_scl_pca_perception, \n",
    "                                  param_grid=param_grid_scl_pca_perception, \n",
    "                                  scoring='accuracy', \n",
    "                                  cv=10,\n",
    "                                  n_jobs=4)\n",
    "\n",
    "gs_scl_pca_perception = gs_scl_pca_perception.fit(X_train, y_train)\n",
    "print(gs_scl_pca_perception.best_score_)\n",
    "print(gs_scl_pca_perception.best_params_)"
   ]
  },
  {
   "cell_type": "code",
   "execution_count": 37,
   "metadata": {},
   "outputs": [
    {
     "data": {
      "text/plain": [
       "Pipeline(steps=[('scl', StandardScaler()), ('pca', PCA(n_components=2)),\n",
       "                ('prc', Perceptron(eta0=0.01, max_iter=100, penalty='l1'))])"
      ]
     },
     "execution_count": 37,
     "metadata": {},
     "output_type": "execute_result"
    }
   ],
   "source": [
    "pipe_k_best_classifier.set_params(**gs_k_best_classifier.best_params_)\n",
    "pipe_scl_pca_perception.set_params(**gs_scl_pca_perception.best_params_)"
   ]
  },
  {
   "cell_type": "code",
   "execution_count": 38,
   "metadata": {},
   "outputs": [
    {
     "name": "stdout",
     "output_type": "stream",
     "text": [
      "KBest TreeClassifier:\n",
      "[[ 3  3]\n",
      " [ 0 15]]\n",
      "PRE: 1.0\n",
      "REC: 0.5\n",
      "\n",
      "PCA Perceptron:\n",
      "[[ 3  3]\n",
      " [ 2 13]]\n",
      "PRE: 0.6\n",
      "REC: 0.5\n"
     ]
    }
   ],
   "source": [
    "from sklearn.metrics import confusion_matrix\n",
    "print(\"KBest TreeClassifier:\")\n",
    "pipe_k_best_classifier.fit(X_train, y_train)\n",
    "y_pred_k_best_classifier = pipe_k_best_classifier.predict(X_test)\n",
    "confmat_k_best_classifier = confusion_matrix(y_true=y_test, y_pred=y_pred_k_best_classifier, labels=[1, 0])\n",
    "print(confmat_k_best_classifier)\n",
    "print(\"PRE:\", precision_score(y_true=y_test, y_pred=y_pred_k_best_classifier))\n",
    "print(\"REC:\", recall_score(y_true=y_test, y_pred=y_pred_k_best_classifier))\n",
    "print()\n",
    "\n",
    "print(\"PCA Perceptron:\")\n",
    "pipe_scl_pca_perception.fit(X_train, y_train)\n",
    "y_pred_scl_pca_perception = pipe_scl_pca_perception.predict(X_test)\n",
    "confmat_scl_pca_perception = confusion_matrix(y_true=y_test, y_pred=y_pred_scl_pca_perception, labels=[1, 0])\n",
    "print(confmat_scl_pca_perception)\n",
    "print(\"PRE:\", precision_score(y_true=y_test, y_pred=y_pred_scl_pca_perception))\n",
    "print(\"REC:\", recall_score(y_true=y_test, y_pred=y_pred_scl_pca_perception))"
   ]
  },
  {
   "cell_type": "code",
   "execution_count": 40,
   "metadata": {},
   "outputs": [
    {
     "name": "stdout",
     "output_type": "stream",
     "text": [
      "0.875\n",
      "{'dtc__criterion': 'gini', 'dtc__max_depth': 2, 'skb__k': 2}\n",
      "0.7071428571428571\n",
      "{'pca__n_components': 2, 'prc__eta0': 0.01, 'prc__max_iter': 100, 'prc__penalty': 'l2'}\n",
      "KBest TreeClassifier:\n",
      "[[ 3  3]\n",
      " [ 0 15]]\n",
      "PRE: 1.0\n",
      "REC: 0.5\n",
      "\n",
      "PCA Perceptron:\n",
      "[[ 3  3]\n",
      " [ 4 11]]\n",
      "PRE: 0.42857142857142855\n",
      "REC: 0.5\n"
     ]
    }
   ],
   "source": [
    "param_grid_kbest_classifier = [{'skb__k': np.arange(1, len(zoo_df.columns)),\n",
    "                                'dtc__criterion': ['gini', 'entropy'],\n",
    "                                'dtc__max_depth': np.arange(1, len(zoo_df.columns))}]\n",
    "\n",
    "gs_k_best_classifier = GridSearchCV(estimator=pipe_k_best_classifier, \n",
    "                                  param_grid=param_grid_kbest_classifier, \n",
    "                                  scoring='accuracy', \n",
    "                                  cv=10,\n",
    "                                  n_jobs=4)\n",
    "\n",
    "gs_k_best_classifier = gs_k_best_classifier.fit(X_train, y_train)\n",
    "print(gs_k_best_classifier.best_score_)\n",
    "print(gs_k_best_classifier.best_params_)\n",
    "\n",
    "param_grid_scl_pca_perception = [{'pca__n_components': np.arange(1, int(len(zoo_df.columns)**0.5)),\n",
    "                                'prc__eta0': np.linspace(0.01, 1, 10),\n",
    "                                'prc__max_iter': np.arange(100, 2000, step=100),\n",
    "                                'prc__penalty': ['l2', 'l1', 'elasticnet']}]\n",
    "\n",
    "gs_scl_pca_perception = GridSearchCV(estimator=pipe_scl_pca_perception, \n",
    "                                  param_grid=param_grid_scl_pca_perception, \n",
    "                                  scoring='f1', \n",
    "                                  cv=10,\n",
    "                                  n_jobs=4)\n",
    "\n",
    "gs_scl_pca_perception = gs_scl_pca_perception.fit(X_train, y_train)\n",
    "print(gs_scl_pca_perception.best_score_)\n",
    "print(gs_scl_pca_perception.best_params_)\n",
    "\n",
    "pipe_k_best_classifier.set_params(**gs_k_best_classifier.best_params_)\n",
    "pipe_scl_pca_perception.set_params(**gs_scl_pca_perception.best_params_)\n",
    "\n",
    "from sklearn.metrics import confusion_matrix\n",
    "print(\"KBest TreeClassifier:\")\n",
    "pipe_k_best_classifier.fit(X_train, y_train)\n",
    "y_pred_k_best_classifier = pipe_k_best_classifier.predict(X_test)\n",
    "confmat_k_best_classifier = confusion_matrix(y_true=y_test, y_pred=y_pred_k_best_classifier, labels=[1, 0])\n",
    "print(confmat_k_best_classifier)\n",
    "print(\"PRE:\", precision_score(y_true=y_test, y_pred=y_pred_k_best_classifier))\n",
    "print(\"REC:\", recall_score(y_true=y_test, y_pred=y_pred_k_best_classifier))\n",
    "print()\n",
    "\n",
    "print(\"PCA Perceptron:\")\n",
    "pipe_scl_pca_perception.fit(X_train, y_train)\n",
    "y_pred_scl_pca_perception = pipe_scl_pca_perception.predict(X_test)\n",
    "confmat_scl_pca_perception = confusion_matrix(y_true=y_test, y_pred=y_pred_scl_pca_perception, labels=[1, 0])\n",
    "print(confmat_scl_pca_perception)\n",
    "print(\"PRE:\", precision_score(y_true=y_test, y_pred=y_pred_scl_pca_perception))\n",
    "print(\"REC:\", recall_score(y_true=y_test, y_pred=y_pred_scl_pca_perception))"
   ]
  },
  {
   "cell_type": "code",
   "execution_count": null,
   "metadata": {},
   "outputs": [],
   "source": []
  }
 ],
 "metadata": {
  "kernelspec": {
   "display_name": "Python 3",
   "language": "python",
   "name": "python3"
  },
  "language_info": {
   "codemirror_mode": {
    "name": "ipython",
    "version": 3
   },
   "file_extension": ".py",
   "mimetype": "text/x-python",
   "name": "python",
   "nbconvert_exporter": "python",
   "pygments_lexer": "ipython3",
   "version": "3.7.9"
  }
 },
 "nbformat": 4,
 "nbformat_minor": 2
}
