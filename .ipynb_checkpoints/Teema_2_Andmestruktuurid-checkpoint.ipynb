{
 "cells": [
  {
   "cell_type": "markdown",
   "metadata": {},
   "source": [
    "# 2. Andmestruktuurid ja tsüklid Pythonis\n",
    "\n",
    "Siin vaatleme olulisemaid Pythoni baasandmestruktuure, nagu:\n",
    "* [list (loend)](https://docs.python.org/3/tutorial/introduction.html#lists)\n",
    "* [string (sõne)](https://docs.python.org/3/tutorial/introduction.html#strings)\n",
    "* [tuple (ennik)](https://docs.python.org/3/tutorial/datastructures.html#tuples-and-sequences)\n",
    "* [dictionary (sõnastik)](https://docs.python.org/3/tutorial/datastructures.html#dictionaries). \n",
    "\n",
    "Lisaks vaatleme me [for-tsüklit](https://docs.python.org/3/tutorial/controlflow.html#for-statements), mitmest omistamist, [faile](https://docs.python.org/3/tutorial/inputoutput.html#reading-and-writing-files) ja [list comprehension'it (loendi genereerimist)](https://docs.python.org/3/tutorial/datastructures.html#list-comprehensions).\n",
    "\n",
    "Ülesanded:\n",
    "* [Ülesanne 2.1](#2_1)\n",
    "* [Ülesanne 2.2](#2_2)"
   ]
  },
  {
   "cell_type": "markdown",
   "metadata": {},
   "source": [
    "## 2.1. Stringid, listid ja tsüklid\n",
    "\n",
    "String (ehk sõne) on tekstijada ehk märgijada. String on jutumärkide vahel ('abc', \"abc\"). Stringidele võib rakendada ka operatsioone + (liitmine omavahel), * (korrutamine arvuga)."
   ]
  },
  {
   "cell_type": "code",
   "execution_count": 1,
   "metadata": {},
   "outputs": [
    {
     "data": {
      "text/plain": [
       "'Andmekaeve'"
      ]
     },
     "execution_count": 1,
     "metadata": {},
     "output_type": "execute_result"
    }
   ],
   "source": [
    "s1 = \"Andme\"\n",
    "s2 = 'kaeve'\n",
    "aine = s1 + s2\n",
    "aine"
   ]
  },
  {
   "cell_type": "code",
   "execution_count": 2,
   "metadata": {},
   "outputs": [
    {
     "data": {
      "text/plain": [
       "'AndmeAndmeAndmeAndmeAndmeAndmeAndmeAndmeAndmeAndme'"
      ]
     },
     "execution_count": 2,
     "metadata": {},
     "output_type": "execute_result"
    }
   ],
   "source": [
    "s1*10"
   ]
  },
  {
   "cell_type": "markdown",
   "metadata": {},
   "source": [
    "Stringide vormindamine tähendab väärtuse sisestamist mallstringi. Siin me vaatleme % notatsiooni. On olemas ka uuem [format()](https://docs.python.org/3/library/string.html#formatstrings) meetodi notatsioon, aga kuna kursuse S. Raschka põhiõpik kasutab vanemat notatsiooni, siis seda me lähemalt ei vaatle. Sisestatavat väärtust (lünka) mallstringis märgivad sümbolid %s (string), %f (float reaalarvud), %d (double reaalarv), %i (integer täisarv). Notatsioon `mallstring % (v1, v2,...)` täidab lüngad sobivat tüüpi väärtustega v1, v2."
   ]
  },
  {
   "cell_type": "code",
   "execution_count": 3,
   "metadata": {},
   "outputs": [
    {
     "name": "stdout",
     "output_type": "stream",
     "text": [
      "Tere tali!\n",
      "Nimi: Mr. X, Vanus: 33\n",
      "Nimi: Ms. Z, Vanus: 23\n"
     ]
    }
   ],
   "source": [
    "mall = \"Tere %s!\"\n",
    "print(mall % \"tali\")\n",
    "objekti_mall = \"Nimi: %s, Vanus: %i\"\n",
    "print(objekti_mall % (\"Mr. X\", 33))\n",
    "print(objekti_mall % (\"Ms. Z\", 23))"
   ]
  },
  {
   "cell_type": "markdown",
   "metadata": {},
   "source": [
    "Pythoni jadade (sequence: string, list, tuple, numpy.array, pandas.Dataframe) elemendid on kõik ligipääsetavad sarnase notatsiooni abil: `jada[indeks]` .\n",
    "Indeksi väärtused esimesest viimase jada elemendini on täisarvud 0...n-1, kus n on jada elementide arv. Indeksi väärtused viimasest esimese jada elemendini on täisarvud -1...-n, kus n on jada elementide arv. Jada elementide arvu leidmiseks on funktsioon `len(jada)`."
   ]
  },
  {
   "cell_type": "code",
   "execution_count": 49,
   "metadata": {},
   "outputs": [
    {
     "name": "stdout",
     "output_type": "stream",
     "text": [
      "Stringi 'aine' märkide arv: 10\n",
      "A e d e\n"
     ]
    }
   ],
   "source": [
    "print(\"Stringi 'aine' märkide arv:\", len(aine))\n",
    "print(aine[0], aine[-1], aine[2], aine[-3])"
   ]
  },
  {
   "cell_type": "markdown",
   "metadata": {},
   "source": [
    "Stringis võib kasutada ka erisümboleid:\n",
    "* \\n - reavahetus\n",
    "* \\t - tabulatsioon\n",
    "..."
   ]
  },
  {
   "cell_type": "code",
   "execution_count": 5,
   "metadata": {},
   "outputs": [
    {
     "name": "stdout",
     "output_type": "stream",
     "text": [
      "SL \t SW \t PL \t PW \n",
      "0.3 \t 0.2 \t 0.5 \t 0.6\n"
     ]
    }
   ],
   "source": [
    "tabel = \"SL \\t SW \\t PL \\t PW \\n0.3 \\t 0.2 \\t 0.5 \\t 0.6\"\n",
    "print(tabel)"
   ]
  },
  {
   "cell_type": "markdown",
   "metadata": {},
   "source": [
    "Lõik (slice) Pythoni jadast on kujul `jada[algus_indeks : lõpu_indeks]` ja sisaldab elemente algus_indeksist (kaasa arvatud) lõpu_indeksini (välja arvatud). Nii algus_indeks kui ka lõpu_indeks võivad ära jääda."
   ]
  },
  {
   "cell_type": "code",
   "execution_count": 6,
   "metadata": {},
   "outputs": [
    {
     "name": "stdout",
     "output_type": "stream",
     "text": [
      "dmekae\n",
      "dmekaeve\n",
      "Andmekae\n",
      "Andmekaeve\n"
     ]
    }
   ],
   "source": [
    "print(aine[2:-2])\n",
    "print(aine[2:])\n",
    "print(aine[:-2])\n",
    "print(aine[:])"
   ]
  },
  {
   "cell_type": "markdown",
   "metadata": {},
   "source": [
    "List (loend) on suvaliste objektide (stringid, arvud, listid, mis iganes) jada. List defineeritakse kujul `[objekt1, objekt2, objekt3,...]`. Ligipääs listi elementidele käib läbi indeksite, nagu kõikidel Pythoni jadadel. Stringi tükeldab alamstringide listiks stringi meetod `s.split(eraldaja_str)`."
   ]
  },
  {
   "cell_type": "code",
   "execution_count": 7,
   "metadata": {},
   "outputs": [
    {
     "name": "stdout",
     "output_type": "stream",
     "text": [
      "['Andm', 'ka', 'v', '']\n",
      "['Nimi: %s', ' Vanus: %i']\n"
     ]
    }
   ],
   "source": [
    "print(aine.split(\"e\"))\n",
    "print(objekti_mall.split(\",\"))\n"
   ]
  },
  {
   "cell_type": "code",
   "execution_count": 8,
   "metadata": {},
   "outputs": [
    {
     "name": "stdout",
     "output_type": "stream",
     "text": [
      "[1, 'string', []]\n",
      "['string', []]\n"
     ]
    }
   ],
   "source": [
    "oma_list = [1, \"string\", []]\n",
    "print(oma_list)\n",
    "print(oma_list[1:])"
   ]
  },
  {
   "cell_type": "markdown",
   "metadata": {},
   "source": [
    "Funktsioon `range(alumine, ülemine, samm)` tekitab arvujada alumisest arvust (kaasa arvatud)  ülemiseni (välja arvatud), kus need kasvavad sammu haaval (alumine piir ja samm võivad ära jääda, vaikeväärtused on alumine=0 ja samm=1). range() tagastab spetsiifilise range() jada, mille saab listiks konverteerida funktsiooniga `list()`."
   ]
  },
  {
   "cell_type": "code",
   "execution_count": 9,
   "metadata": {},
   "outputs": [
    {
     "data": {
      "text/plain": [
       "[0, 1, 2, 3, 4]"
      ]
     },
     "execution_count": 9,
     "metadata": {},
     "output_type": "execute_result"
    }
   ],
   "source": [
    "list(range(5))"
   ]
  },
  {
   "cell_type": "code",
   "execution_count": 10,
   "metadata": {},
   "outputs": [
    {
     "data": {
      "text/plain": [
       "range(1, 4)"
      ]
     },
     "execution_count": 10,
     "metadata": {},
     "output_type": "execute_result"
    }
   ],
   "source": [
    "range(5)[1:4]"
   ]
  },
  {
   "cell_type": "raw",
   "metadata": {},
   "source": []
  },
  {
   "cell_type": "code",
   "execution_count": 11,
   "metadata": {},
   "outputs": [
    {
     "data": {
      "text/plain": [
       "[100, 105, 110, 115, 120, 125, 130, 135, 140, 145]"
      ]
     },
     "execution_count": 11,
     "metadata": {},
     "output_type": "execute_result"
    }
   ],
   "source": [
    "list(range(100, 150, 5))"
   ]
  },
  {
   "cell_type": "markdown",
   "metadata": {},
   "source": [
    "**for** tsükkel käib läbi kõik jada elemendid, omistab need tsüklimuutujale väärtuseks ja käivitab **for** ploki."
   ]
  },
  {
   "cell_type": "code",
   "execution_count": 12,
   "metadata": {},
   "outputs": [
    {
     "name": "stdout",
     "output_type": "stream",
     "text": [
      "A\n",
      "n\n",
      "d\n",
      "m\n",
      "e\n",
      "k\n",
      "a\n",
      "e\n",
      "v\n",
      "e\n"
     ]
    }
   ],
   "source": [
    "for mark in aine:\n",
    "    print(mark)"
   ]
  },
  {
   "cell_type": "code",
   "execution_count": 13,
   "metadata": {},
   "outputs": [
    {
     "name": "stdout",
     "output_type": "stream",
     "text": [
      "0 1\n",
      "1 2\n",
      "2 4\n",
      "3 8\n",
      "4 16\n",
      "5 32\n",
      "6 64\n",
      "7 128\n",
      "8 256\n",
      "9 512\n",
      "10 1024\n"
     ]
    }
   ],
   "source": [
    "for i in range(11):\n",
    "    x = 2**i\n",
    "    print(i, x)\n",
    "    "
   ]
  },
  {
   "cell_type": "code",
   "execution_count": 14,
   "metadata": {},
   "outputs": [
    {
     "name": "stdout",
     "output_type": "stream",
     "text": [
      "1\n",
      "string\n",
      "[]\n"
     ]
    }
   ],
   "source": [
    "for obj in oma_list: print(obj)"
   ]
  },
  {
   "cell_type": "markdown",
   "metadata": {},
   "source": [
    "Mitmene omistamine on üherealine viis omistada väärtused mitmele muutujale kujul `muutuja1, muutuja2, muutuja3 = väärtus1, väärtus2, väärtus3`. Kõik väärtused arvutatakse välja enne omistamist, mis võib vältida vajadust abimuutujate järele."
   ]
  },
  {
   "cell_type": "code",
   "execution_count": 15,
   "metadata": {},
   "outputs": [
    {
     "name": "stdout",
     "output_type": "stream",
     "text": [
      "string []\n"
     ]
    }
   ],
   "source": [
    "x1, x2 = oma_list[1], oma_list[2]\n",
    "print(x1, x2)"
   ]
  },
  {
   "cell_type": "code",
   "execution_count": 16,
   "metadata": {},
   "outputs": [
    {
     "name": "stdout",
     "output_type": "stream",
     "text": [
      "string []\n"
     ]
    }
   ],
   "source": [
    "x1, x2 = oma_list[1:3]\n",
    "print(x1, x2)"
   ]
  },
  {
   "cell_type": "code",
   "execution_count": 17,
   "metadata": {},
   "outputs": [
    {
     "name": "stdout",
     "output_type": "stream",
     "text": [
      "string []\n"
     ]
    }
   ],
   "source": [
    "x1 = oma_list[1]\n",
    "x2 = oma_list[2]\n",
    "print(x1, x2)"
   ]
  },
  {
   "cell_type": "code",
   "execution_count": 18,
   "metadata": {},
   "outputs": [
    {
     "data": {
      "text/plain": [
       "[1, [], 'string']"
      ]
     },
     "execution_count": 18,
     "metadata": {},
     "output_type": "execute_result"
    }
   ],
   "source": [
    "oma_list[2], oma_list[1] = oma_list[1], oma_list[2] # vahetus\n",
    "oma_list"
   ]
  },
  {
   "cell_type": "code",
   "execution_count": 19,
   "metadata": {},
   "outputs": [
    {
     "data": {
      "text/plain": [
       "[1, [], []]"
      ]
     },
     "execution_count": 19,
     "metadata": {},
     "output_type": "execute_result"
    }
   ],
   "source": [
    "# Kahe reaga see nii lihtsalt ei tööta ja on vaja abimuutujat! \n",
    "oma_list[2] = oma_list[1]\n",
    "oma_list[1] = oma_list[2] # oma_list[2] on juba muutunud!\n",
    "oma_list"
   ]
  },
  {
   "cell_type": "markdown",
   "metadata": {},
   "source": [
    "<a id='2_1'></a>\n",
    "##  Ülesanne 2.1\n",
    "\n",
    "Käivitage järgnev koodilahter:"
   ]
  },
  {
   "cell_type": "code",
   "execution_count": 1,
   "metadata": {},
   "outputs": [],
   "source": [
    "andmerida = '6.9, 3.1, 5.1, 2.3, %s\\n'"
   ]
  },
  {
   "cell_type": "markdown",
   "metadata": {},
   "source": [
    "a.) Omistage muutujale *setosa_str* väärtuseks  *andmerida*, kus  `%s` on asendatud stringiga `\"Iris-setosa\"` kasutades vormindamisoperaatorit `%`. Väljastage *setosa_str* väärtus."
   ]
  },
  {
   "cell_type": "code",
   "execution_count": 3,
   "metadata": {},
   "outputs": [
    {
     "data": {
      "text/plain": [
       "'6.9, 3.1, 5.1, 2.3, Iris-setosa\\n'"
      ]
     },
     "execution_count": 3,
     "metadata": {},
     "output_type": "execute_result"
    }
   ],
   "source": [
    "setosa_str = andmerida % 'Iris-setosa'\n",
    "setosa_str"
   ]
  },
  {
   "cell_type": "markdown",
   "metadata": {},
   "source": [
    "b.) Teisendage *setosa_str* stringide listiks tükeldades selle *split(\",\")* meetodi abil komade järgi. Omistage tulem muutujale *setosa_list*. Trükkige **for** tsükli ja *print()* käsuga kõik selle listi elemendid.  "
   ]
  },
  {
   "cell_type": "code",
   "execution_count": 4,
   "metadata": {},
   "outputs": [
    {
     "name": "stdout",
     "output_type": "stream",
     "text": [
      "6.9\n",
      " 3.1\n",
      " 5.1\n",
      " 2.3\n",
      " Iris-setosa\n",
      "\n"
     ]
    }
   ],
   "source": [
    "setosa_list = setosa_str.split(',')  # .strip() ? or nah..\n",
    "for el in setosa_list:\n",
    "    print(el)"
   ]
  },
  {
   "cell_type": "markdown",
   "metadata": {},
   "source": [
    "c.) Omistage muutujatele *petal_l, petal_w* mitmese omistamise abil listi *setosa_list* elemendid indeksitega 2 ja 3. Väljastage *petal_l, petal_w* väärtused."
   ]
  },
  {
   "cell_type": "code",
   "execution_count": 9,
   "metadata": {},
   "outputs": [
    {
     "data": {
      "text/plain": [
       "(' 5.1', ' 2.3')"
      ]
     },
     "execution_count": 9,
     "metadata": {},
     "output_type": "execute_result"
    }
   ],
   "source": [
    "petal_l, petal_w = setosa_list[2], setosa_list[3]\n",
    "petal_l, petal_w"
   ]
  },
  {
   "cell_type": "markdown",
   "metadata": {},
   "source": [
    "## 2.2. List comprehension, muud andmestruktuurid, failid, tüübiteisendused"
   ]
  },
  {
   "cell_type": "markdown",
   "metadata": {},
   "source": [
    "\n",
    "Tüübiteisendused on funktsioonid, mille nimi vastab tüübile, milleks teisendatakse:\n",
    "\n",
    "\n",
    "* str()\n",
    "* int()\n",
    "* float()\n",
    "* list()\n",
    "* bool()\n"
   ]
  },
  {
   "cell_type": "code",
   "execution_count": 48,
   "metadata": {},
   "outputs": [
    {
     "name": "stdout",
     "output_type": "stream",
     "text": [
      "3340\n"
     ]
    },
    {
     "data": {
      "text/plain": [
       "77"
      ]
     },
     "execution_count": 48,
     "metadata": {},
     "output_type": "execute_result"
    }
   ],
   "source": [
    "print(\"33\"+\"40\") # Vale tüüp võib muuta operatsiooni sisu või muuta selle võimatuks\n",
    "int(\"33\")+int(\"44\")"
   ]
  },
  {
   "cell_type": "code",
   "execution_count": 22,
   "metadata": {},
   "outputs": [
    {
     "data": {
      "text/plain": [
       "['[', '1', ',', '2', ',', '3', ']']"
      ]
     },
     "execution_count": 22,
     "metadata": {},
     "output_type": "execute_result"
    }
   ],
   "source": [
    "list(\"[1,2,3]\")"
   ]
  },
  {
   "cell_type": "code",
   "execution_count": 23,
   "metadata": {},
   "outputs": [
    {
     "ename": "ValueError",
     "evalue": "could not convert string to float: '3,6'",
     "output_type": "error",
     "traceback": [
      "\u001b[1;31m---------------------------------------------------------------------------\u001b[0m",
      "\u001b[1;31mValueError\u001b[0m                                Traceback (most recent call last)",
      "\u001b[1;32m<ipython-input-23-32222268afd8>\u001b[0m in \u001b[0;36m<module>\u001b[1;34m\u001b[0m\n\u001b[1;32m----> 1\u001b[1;33m \u001b[0mfloat\u001b[0m\u001b[1;33m(\u001b[0m\u001b[1;34m\"3,6\"\u001b[0m\u001b[1;33m)\u001b[0m  \u001b[1;31m# Anglosaksi notatsioon koma asemel punkt.\u001b[0m\u001b[1;33m\u001b[0m\u001b[1;33m\u001b[0m\u001b[0m\n\u001b[0m",
      "\u001b[1;31mValueError\u001b[0m: could not convert string to float: '3,6'"
     ]
    }
   ],
   "source": [
    "float(\"3,6\")  # Anglosaksi notatsioon koma asemel punkt."
   ]
  },
  {
   "cell_type": "code",
   "execution_count": 24,
   "metadata": {},
   "outputs": [
    {
     "data": {
      "text/plain": [
       "3.6"
      ]
     },
     "execution_count": 24,
     "metadata": {},
     "output_type": "execute_result"
    }
   ],
   "source": [
    "float(\"3.6\")"
   ]
  },
  {
   "cell_type": "markdown",
   "metadata": {},
   "source": [
    "\n",
    "Standardfunktsioonid listidel: min(), max(), sum(), reversed(), len(), sorted()."
   ]
  },
  {
   "cell_type": "code",
   "execution_count": 25,
   "metadata": {},
   "outputs": [
    {
     "name": "stdout",
     "output_type": "stream",
     "text": [
      "[10, 11, 12, 13, 14, 15, 16, 17, 18, 19, 15, 14, 13, 12, 11, 10, 9, 8, 7, 6, 5, 4, 3, 2, 1, 0, -1, -2, -3, -4, -5, -6, -7, -8, -9]\n",
      "min: -9\n",
      "max: 19\n",
      "sum: 220\n",
      "reversed: <list_reverseiterator object at 0x0000023F5EFB8128>\n",
      "len:  35\n",
      "sorted:  [-9, -8, -7, -6, -5, -4, -3, -2, -1, 0, 1, 2, 3, 4, 5, 6, 7, 8, 9, 10, 10, 11, 11, 12, 12, 13, 13, 14, 14, 15, 15, 16, 17, 18, 19]\n"
     ]
    }
   ],
   "source": [
    "l = list(range(10, 20)) + list(range(15, -10, -1))\n",
    "print(l)\n",
    "print(\"min:\", min(l))\n",
    "print(\"max:\", max(l))\n",
    "print(\"sum:\", sum(l))\n",
    "print(\"reversed:\", reversed(l))\n",
    "print(\"len: \", len(l))\n",
    "print(\"sorted: \", sorted(l))"
   ]
  },
  {
   "cell_type": "code",
   "execution_count": 26,
   "metadata": {},
   "outputs": [
    {
     "name": "stdout",
     "output_type": "stream",
     "text": [
      "[-9, -8, -7, -6, -5, -4, -3, -2, -1, 0, 1, 2, 3, 4, 5, 6, 7, 8, 9, 10, 11, 12, 13, 14, 15, 19, 18, 17, 16, 15, 14, 13, 12, 11, 10]\n",
      "-9\n",
      "-8\n",
      "-7\n",
      "-6\n",
      "-5\n",
      "-4\n",
      "-3\n",
      "-2\n",
      "-1\n",
      "0\n",
      "1\n",
      "2\n",
      "3\n",
      "4\n",
      "5\n",
      "6\n",
      "7\n",
      "8\n",
      "9\n",
      "10\n",
      "11\n",
      "12\n",
      "13\n",
      "14\n",
      "15\n",
      "19\n",
      "18\n",
      "17\n",
      "16\n",
      "15\n",
      "14\n",
      "13\n",
      "12\n",
      "11\n",
      "10\n"
     ]
    }
   ],
   "source": [
    "print(list(reversed(l))) # Iteraator objekte on võimalik teisendada \n",
    "for item in reversed(l): print(item) # ja tsüklis üle itereerida"
   ]
  },
  {
   "cell_type": "markdown",
   "metadata": {},
   "source": [
    "\n",
    "Mõningad funktsioonid kombineerivad ja täiendavad jadasid. zip(list1, list2) funktsioon väljastab listi, mille elementideks on list1, list2 elementide paarid."
   ]
  },
  {
   "cell_type": "code",
   "execution_count": 27,
   "metadata": {},
   "outputs": [
    {
     "data": {
      "text/plain": [
       "[('a', 1),\n",
       " ('b', 2),\n",
       " ('c', 3),\n",
       " ('d', 4),\n",
       " ('e', 5),\n",
       " ('f', 6),\n",
       " ('g', 7),\n",
       " ('h', 8)]"
      ]
     },
     "execution_count": 27,
     "metadata": {},
     "output_type": "execute_result"
    }
   ],
   "source": [
    "list(zip(\"abcdefgh\", range(1,9)))"
   ]
  },
  {
   "cell_type": "markdown",
   "metadata": {},
   "source": [
    "\n",
    "Enumerate funktsiooni rakendamine jadale tagastab järjekorra nr., element paaridest koosneva jada."
   ]
  },
  {
   "cell_type": "code",
   "execution_count": 28,
   "metadata": {},
   "outputs": [
    {
     "data": {
      "text/plain": [
       "[(0, 'a'),\n",
       " (1, 'b'),\n",
       " (2, 'c'),\n",
       " (3, 'd'),\n",
       " (4, 'e'),\n",
       " (5, 'f'),\n",
       " (6, 'g'),\n",
       " (7, 'h'),\n",
       " (8, 'i'),\n",
       " (9, 'j'),\n",
       " (10, 'g'),\n",
       " (11, 'h')]"
      ]
     },
     "execution_count": 28,
     "metadata": {},
     "output_type": "execute_result"
    }
   ],
   "source": [
    "list(enumerate(\"abcdefghijgh\"))"
   ]
  },
  {
   "cell_type": "markdown",
   "metadata": {},
   "source": [
    "[Tuple (ennik)](https://docs.python.org/3/tutorial/datastructures.html#tuples-and-sequences) on listi sarnane, aga muutumatu (*immutable*) andmestruktuur (list võib muutuda). Erinevalt listist asuvad enniku elemendid ümarsulgude vahel.\n"
   ]
  },
  {
   "cell_type": "code",
   "execution_count": 29,
   "metadata": {},
   "outputs": [
    {
     "data": {
      "text/plain": [
       "'b'"
      ]
     },
     "execution_count": 29,
     "metadata": {},
     "output_type": "execute_result"
    }
   ],
   "source": [
    "ennik = (\"a\", \"b\", \"d\")\n",
    "ennik[1]"
   ]
  },
  {
   "cell_type": "markdown",
   "metadata": {},
   "source": [
    "[Dictionary (sõnastik)](https://docs.python.org/3/tutorial/datastructures.html#dictionaries) indekseerib elemente, mitte täisarvuliste indeksitega *0, 1,...,n* vaid kasutaja määratud võtmetega. Sõnastiku elemendid asuvad loogeliste sulgude vahel kujul `{võti_1: element_1, võti_2: element_2,...}`."
   ]
  },
  {
   "cell_type": "code",
   "execution_count": 30,
   "metadata": {},
   "outputs": [
    {
     "data": {
      "text/plain": [
       "2"
      ]
     },
     "execution_count": 30,
     "metadata": {},
     "output_type": "execute_result"
    }
   ],
   "source": [
    "d = {\"a\": 1, \"b\": 2, \"c\": 3}\n",
    "d[\"b\"]"
   ]
  },
  {
   "cell_type": "markdown",
   "metadata": {},
   "source": [
    "Mõned olulisemad sõnastiku meetodid ja muud operatsioonid:\n",
    "* `d[v] = x` lisab võtme `v` alla väärtuse `x`\n",
    "* `d.values()` tagastab sõnastiku väärtuste jada\n",
    "* `d.keys()` tagastab sõnastiku võtmete jada\n",
    "* `d.items` tagastab `(võti, väärtus)` ennikute jada\n",
    "* `del d[v]` kustutab sõnastiku võtmega *v* määratud elemendi \n",
    "* `for v in d` itereerib üle kõigi sõnastiku `d` võtmete `v`\n",
    "* `d.get(v, default)` tagastab võtme `v` olemasolul sellega määratud väärtuse, muidu `default`.\n",
    "* `d.setdefault(v, default)` tagastab võtme `v` olemasolul sellega määratud väärtuse, muidu väärtustab võtme v väärtusega `default` ja tagastab selle väärtuse."
   ]
  },
  {
   "cell_type": "code",
   "execution_count": 31,
   "metadata": {},
   "outputs": [],
   "source": [
    "del d['b']"
   ]
  },
  {
   "cell_type": "code",
   "execution_count": 32,
   "metadata": {},
   "outputs": [
    {
     "data": {
      "text/plain": [
       "(dict_values([1, 3]), dict_keys(['a', 'c']))"
      ]
     },
     "execution_count": 32,
     "metadata": {},
     "output_type": "execute_result"
    }
   ],
   "source": [
    "d.values(), d.keys()"
   ]
  },
  {
   "cell_type": "code",
   "execution_count": 33,
   "metadata": {},
   "outputs": [],
   "source": [
    "d['qwerty'] = 2**100"
   ]
  },
  {
   "cell_type": "code",
   "execution_count": 34,
   "metadata": {},
   "outputs": [
    {
     "data": {
      "text/plain": [
       "dict_items([('a', 1), ('c', 3), ('qwerty', 1267650600228229401496703205376)])"
      ]
     },
     "execution_count": 34,
     "metadata": {},
     "output_type": "execute_result"
    }
   ],
   "source": [
    "d.items()"
   ]
  },
  {
   "cell_type": "code",
   "execution_count": null,
   "metadata": {},
   "outputs": [],
   "source": []
  },
  {
   "cell_type": "markdown",
   "metadata": {},
   "source": [
    " [Failidest](https://docs.python.org/3/tutorial/inputoutput.html#reading-and-writing-files) andmete lugemine ja nendesse andmete kirjutamine on oluline osa andmete eeltöötlusest. Tavaliselt töötame me *.csv* formaadis failidega, mille jaoks on erifunktsioonid [pandas](https://pandas.pydata.org/pandas-docs/version/0.23.4/10min.html) moodulis, aga muude juhtude tarvis on vaja tunda üldist funktsionaalsust.\n"
   ]
  },
  {
   "cell_type": "markdown",
   "metadata": {},
   "source": [
    "Faili avab ja failiobjekti tagastab *open(filename, mode)* standardfunktsioon. \n",
    " *Mode* režiim võib olla 'r' ainult lugemiseks, 'w' ainult kirjutamiseks (olemasolev fail kirjutatakse üle),  'a' lisamiseks olemasoleva faili lõppu, 'r+' nii lugemiseks kui kirjutamiseks. \n",
    "Faili sulgemiseks tuleb kasutada tagastatud failiobjekti *close()* meetodit."
   ]
  },
  {
   "cell_type": "code",
   "execution_count": 35,
   "metadata": {},
   "outputs": [],
   "source": [
    "f = open(\"helloworld.txt\", \"w\")\n",
    "f.write(\"Hello world!\")\n",
    "f.close()"
   ]
  },
  {
   "cell_type": "markdown",
   "metadata": {},
   "source": [
    "Üldiselt soovitatakse tööks failidega kasutada **with** `object` **as** *name*: plokki, mis suleb failiobjekti automaatselt, ka veaolukorra ilmnemisel."
   ]
  },
  {
   "cell_type": "code",
   "execution_count": 36,
   "metadata": {},
   "outputs": [],
   "source": [
    "with open(\"helloworld.txt\", \"a\") as f:\n",
    "    for i in range(10):\n",
    "        f.write(\"Hello \"*i  + \"World!\\n\")"
   ]
  },
  {
   "cell_type": "code",
   "execution_count": 37,
   "metadata": {},
   "outputs": [
    {
     "name": "stdout",
     "output_type": "stream",
     "text": [
      "Hello world!World!\n",
      "Hello World!\n",
      "Hello Hello World!\n",
      "Hello Hello Hello World!\n",
      "Hello Hello Hello Hello World!\n",
      "Hello Hello Hello Hello Hello World!\n",
      "Hello Hello Hello Hello Hello Hello World!\n",
      "Hello Hello Hello Hello Hello Hello Hello World!\n",
      "Hello Hello Hello Hello Hello Hello Hello Hello World!\n",
      "Hello Hello Hello Hello Hello Hello Hello Hello Hello World!\n",
      "\n"
     ]
    }
   ],
   "source": [
    "with open(\"helloworld.txt\", \"r\") as f:\n",
    "    filetext = f.read()\n",
    "print(filetext)"
   ]
  },
  {
   "cell_type": "code",
   "execution_count": 38,
   "metadata": {},
   "outputs": [
    {
     "data": {
      "text/plain": [
       "{'Hello': 46, 'world!World!': 1, 'World!': 9}"
      ]
     },
     "execution_count": 38,
     "metadata": {},
     "output_type": "execute_result"
    }
   ],
   "source": [
    "# Näide sõnastiku setdefault meetodi kasutamisest sageduste arvutamisel\n",
    "freq_dict = {}\n",
    "for word in filetext.split():\n",
    "    freq_dict[word] = freq_dict.setdefault(word, 0) + 1\n",
    "freq_dict"
   ]
  },
  {
   "cell_type": "markdown",
   "metadata": {},
   "source": [
    "Olulisemad meetodid tööks tekstifailidega on \n",
    "* `f.read()`, mis loeb faili tervikteksti ühe stringina, \n",
    "* `f.readlines()`, mis tagastab stringide listi, mille elemendid on faili read,\n",
    "* `f.readline()` loeb failist f ühe rea ja liigutab järjekorda failis ühe rea võrra edasi,\n",
    "* `f.write(s)`, mis kirjutab faili stringi *s* ( reavahetuseks kasutada `'\\n'` erisümbolit)."
   ]
  },
  {
   "cell_type": "markdown",
   "metadata": {},
   "source": [
    "[List comprehension (loendi hõlmamine)](https://docs.python.org/3/tutorial/datastructures.html#list-comprehensions) võimaldab genereerida loendeid, sõnastikke ja ennikuid ilma abimuutujaid kasutamata. Lihtne kuju on `[avaldis_elemendi_baasil for element in list]`, mis teisendab listi elemendid vastavalt avaldisele."
   ]
  },
  {
   "cell_type": "code",
   "execution_count": 39,
   "metadata": {},
   "outputs": [
    {
     "data": {
      "text/plain": [
       "[1, 2, 4, 8, 16, 32, 64, 128, 256, 512]"
      ]
     },
     "execution_count": 39,
     "metadata": {},
     "output_type": "execute_result"
    }
   ],
   "source": [
    "l =  []\n",
    "for i in range(10):\n",
    "    l.append(2**i)\n",
    "l"
   ]
  },
  {
   "cell_type": "code",
   "execution_count": 40,
   "metadata": {},
   "outputs": [
    {
     "data": {
      "text/plain": [
       "[1, 2, 4, 8, 16, 32, 64, 128, 256, 512]"
      ]
     },
     "execution_count": 40,
     "metadata": {},
     "output_type": "execute_result"
    }
   ],
   "source": [
    "# Ekvivalentne list comprehension\n",
    "l = [2**i for i in range(10)]\n",
    "l"
   ]
  },
  {
   "cell_type": "markdown",
   "metadata": {},
   "source": [
    "*List comprehension* võimaldab lihtsat loendi elementide teisendust ja filtreerimist."
   ]
  },
  {
   "cell_type": "code",
   "execution_count": 41,
   "metadata": {},
   "outputs": [
    {
     "name": "stdout",
     "output_type": "stream",
     "text": [
      "Stringide list: ['0.9', ' 0.5', ' 0.4', ' 0.2']\n",
      "Arvude list: [0.9, 0.5, 0.4, 0.2]\n"
     ]
    }
   ],
   "source": [
    "arvustr = \"0.9, 0.5, 0.4, 0.2\"\n",
    "# Tahame selle teisendada reaalarvude listiks\n",
    "print(\"Stringide list:\", arvustr.split(\",\"))\n",
    "# Tahame teisendada iga selle listi elemendi reaalarvuks\n",
    "arvulist = [float(e) for e in arvustr.split(\",\")]\n",
    "print(\"Arvude list:\", arvulist)"
   ]
  },
  {
   "cell_type": "code",
   "execution_count": 42,
   "metadata": {},
   "outputs": [
    {
     "name": "stdout",
     "output_type": "stream",
     "text": [
      "Arvude list: [0.9, 0.5, 0.4, 0.2]\n"
     ]
    }
   ],
   "source": [
    "# Ekvivalentne kuju for tsükli baasil\n",
    "arvulist = []\n",
    "for e in arvustr.split(\",\"):\n",
    "    arvulist.append(float(e))\n",
    "    \n",
    "print(\"Arvude list:\", arvulist)    \n",
    "    "
   ]
  },
  {
   "cell_type": "markdown",
   "metadata": {},
   "source": [
    "Üldine kuju on:\n",
    "\\[*teisendusavaldis_muutujaga* **for** *muutuja* **in** *jada* **if** *filtreerimisavaldis_muutujaga*\\], mis teisendab listi elemendid vastavalt avaldisele ja filtreerib vastavalt tingimusele."
   ]
  },
  {
   "cell_type": "code",
   "execution_count": 43,
   "metadata": {},
   "outputs": [
    {
     "data": {
      "text/plain": [
       "[12, 18, 24, 30, 36, 42, 48, 54, 60, 0]"
      ]
     },
     "execution_count": 43,
     "metadata": {},
     "output_type": "execute_result"
    }
   ],
   "source": [
    "rea_pikkused = [len(line) for line in filetext.split(\"\\n\") if line!=\"Hello world!World!\"]\n",
    "rea_pikkused"
   ]
  },
  {
   "cell_type": "code",
   "execution_count": 44,
   "metadata": {},
   "outputs": [
    {
     "data": {
      "text/plain": [
       "[0.9, 0.5]"
      ]
     },
     "execution_count": 44,
     "metadata": {},
     "output_type": "execute_result"
    }
   ],
   "source": [
    "arvulist = [float(e) for e in arvustr.split(\",\") if float(e)>=0.5]\n",
    "arvulist"
   ]
  },
  {
   "cell_type": "markdown",
   "metadata": {},
   "source": [
    "Loendi hõlmamine sarnaneb hulga defineerimisega hulgateoorias. Näiteks hulga S põhjal saame defineerida uue hulga kujul:\n",
    "\n",
    "$$ \\{2t+1 \\mid t \\in S, predicate(t) \\} $$\n",
    "\n",
    "*(Võta kõik elemendid t hulgast S, mille puhul predicate(t) on tõene ja teisenda need elementideks 2t+1)*\n",
    "\n",
    "Vastav loendi hõlmamine oleks:\n",
    "\n",
    "`[2t+1 for t in S if predicate(t)]`"
   ]
  },
  {
   "cell_type": "markdown",
   "metadata": {},
   "source": [
    "\n",
    "Tabeli esitus listidena oleks listide list, kus kõik sisemised listid on sama pikkusega."
   ]
  },
  {
   "cell_type": "code",
   "execution_count": 45,
   "metadata": {},
   "outputs": [
    {
     "data": {
      "text/plain": [
       "[[1, 2, 3, 4, 5, 6, 7, 8, 9],\n",
       " [2, 4, 6, 8, 10, 12, 14, 16, 18],\n",
       " [3, 6, 9, 12, 15, 18, 21, 24, 27],\n",
       " [4, 8, 12, 16, 20, 24, 28, 32, 36],\n",
       " [5, 10, 15, 20, 25, 30, 35, 40, 45],\n",
       " [6, 12, 18, 24, 30, 36, 42, 48, 54],\n",
       " [7, 14, 21, 28, 35, 42, 49, 56, 63],\n",
       " [8, 16, 24, 32, 40, 48, 56, 64, 72],\n",
       " [9, 18, 27, 36, 45, 54, 63, 72, 81]]"
      ]
     },
     "execution_count": 45,
     "metadata": {},
     "output_type": "execute_result"
    }
   ],
   "source": [
    "korrutustabel = [[x*y for x in range(1, 10)] for y in range(1, 10)]\n",
    "korrutustabel"
   ]
  },
  {
   "cell_type": "code",
   "execution_count": 46,
   "metadata": {},
   "outputs": [
    {
     "data": {
      "text/plain": [
       "[9, 18, 27, 36, 45, 54, 63, 72, 81]"
      ]
     },
     "execution_count": 46,
     "metadata": {},
     "output_type": "execute_result"
    }
   ],
   "source": [
    "# Ligipääs reale on tabel[rida]\n",
    "korrutustabel[8]"
   ]
  },
  {
   "cell_type": "code",
   "execution_count": 47,
   "metadata": {},
   "outputs": [
    {
     "data": {
      "text/plain": [
       "42"
      ]
     },
     "execution_count": 47,
     "metadata": {},
     "output_type": "execute_result"
    }
   ],
   "source": [
    "# Ligipääs 'lahtrile' on tabel[rida][veerg]\n",
    "korrutustabel[6-1][7-1]"
   ]
  },
  {
   "cell_type": "markdown",
   "metadata": {},
   "source": [
    "<a id='2_2'></a>\n",
    "## Ülesanne 2.2\n",
    "\n",
    "a.) Laadige aadressilt https://archive.ics.uci.edu/ml/machine-learning-databases/iris/ alla fail *Iris.data* ja salvestage samasse kataloogi kui see märkmik. Järgnevas koodilahtris avage see fail lugemiseks ja lugege selle read sisse stringide listina *tabeli_read*: esimene element listis vastab faili esimesele reale, teine element teisele reale jne. Kuvagege väljundlahtris listi *tabeli_read* elemendid indeksitega -10: (kümme viimast rida failis).\n",
    "\n",
    "Näiteks:\n",
    "\n",
    "`['6.9,3.1,5.1,2.3,Iris-virginica\\n',\n",
    " '5.8,2.7,5.1,1.9,Iris-virginica\\n',\n",
    " '6.8,3.2,5.9,2.3,Iris-virginica\\n', ...`\n"
   ]
  },
  {
   "cell_type": "code",
   "execution_count": 12,
   "metadata": {
    "scrolled": true
   },
   "outputs": [
    {
     "data": {
      "text/plain": [
       "['6.9,3.1,5.1,2.3,Iris-virginica\\n',\n",
       " '5.8,2.7,5.1,1.9,Iris-virginica\\n',\n",
       " '6.8,3.2,5.9,2.3,Iris-virginica\\n',\n",
       " '6.7,3.3,5.7,2.5,Iris-virginica\\n',\n",
       " '6.7,3.0,5.2,2.3,Iris-virginica\\n',\n",
       " '6.3,2.5,5.0,1.9,Iris-virginica\\n',\n",
       " '6.5,3.0,5.2,2.0,Iris-virginica\\n',\n",
       " '6.2,3.4,5.4,2.3,Iris-virginica\\n',\n",
       " '5.9,3.0,5.1,1.8,Iris-virginica\\n',\n",
       " '\\n']"
      ]
     },
     "execution_count": 12,
     "metadata": {},
     "output_type": "execute_result"
    }
   ],
   "source": [
    "tabeli_read = []\n",
    "with open('iris.data') as f:\n",
    "    tabeli_read = f.readlines()\n",
    "\n",
    "tabeli_read[-10:]"
   ]
  },
  {
   "cell_type": "markdown",
   "metadata": {},
   "source": [
    "Genereerige list *reapikkused*, mis sisaldab listi *tabeli_read* kuuluvate stringide pikkuseid (märkides) ja väljastage selle listi viis viimast elementi\n",
    "\n",
    "Näiteks:\n",
    "\n",
    "`[31, 31,..., 1]`"
   ]
  },
  {
   "cell_type": "code",
   "execution_count": 14,
   "metadata": {},
   "outputs": [
    {
     "data": {
      "text/plain": [
       "[31, 31, 31, 31, 1]"
      ]
     },
     "execution_count": 14,
     "metadata": {},
     "output_type": "execute_result"
    }
   ],
   "source": [
    "reapikkused = [len(r) for r in tabeli_read]\n",
    "reapikkused[-5:]"
   ]
  },
  {
   "cell_type": "markdown",
   "metadata": {},
   "source": [
    "b.) Genereerige *tabeli_read* alusel kaks uut listi. List *andmed* peab olema list ridadele vastavatest arvude listidest (listide list). Reale vastav arvude list peab sisaldama nelja esimest komadega eraldatud alamstringi (stringi meetod *split(',')*), mis on teisendatud neljaks reaalarvuks (*float()*). \n",
    "\n",
    " \n",
    "List *klassid* peab sisaldama ridade lõpus asuvaid klassistringe ('Iris-setosa\\n' jne.). Mõlemal juhul ignoreerige viimast, tühja rida ('\\n'). Väljastage listi *andmed* elemendid indeksitega 0:10.\n",
    "\n",
    "Näiteks\n",
    "\n",
    "`[[5.1, 3.5, 1.4, 0.2],\n",
    " [4.9, 3.0, 1.4, 0.2],\n",
    " [4.7, 3.2, 1.3, 0.2],...`\n",
    " \n",
    " \n",
    "Väljastage kõik listi *klassid* elemendid.\n",
    "\n",
    "Näiteks\n",
    "\n",
    "`['Iris-setosa\\n',\n",
    " 'Iris-setosa\\n',\n",
    " 'Iris-setosa\\n',\n",
    " 'Iris-setosa\\n',...`\n"
   ]
  },
  {
   "cell_type": "code",
   "execution_count": 16,
   "metadata": {},
   "outputs": [
    {
     "data": {
      "text/plain": [
       "[[5.1, 3.5, 1.4, 0.2],\n",
       " [4.9, 3.0, 1.4, 0.2],\n",
       " [4.7, 3.2, 1.3, 0.2],\n",
       " [4.6, 3.1, 1.5, 0.2],\n",
       " [5.0, 3.6, 1.4, 0.2],\n",
       " [5.4, 3.9, 1.7, 0.4],\n",
       " [4.6, 3.4, 1.4, 0.3],\n",
       " [5.0, 3.4, 1.5, 0.2],\n",
       " [4.4, 2.9, 1.4, 0.2],\n",
       " [4.9, 3.1, 1.5, 0.1]]"
      ]
     },
     "execution_count": 16,
     "metadata": {},
     "output_type": "execute_result"
    }
   ],
   "source": [
    "andmed = [[float(x) for x in r.split(',')[:4]] for r in tabeli_read if r.count(',') >= 3]\n",
    "andmed[0:10]"
   ]
  },
  {
   "cell_type": "code",
   "execution_count": 17,
   "metadata": {},
   "outputs": [
    {
     "data": {
      "text/plain": [
       "['Iris-setosa\\n',\n",
       " 'Iris-setosa\\n',\n",
       " 'Iris-setosa\\n',\n",
       " 'Iris-setosa\\n',\n",
       " 'Iris-setosa\\n',\n",
       " 'Iris-setosa\\n',\n",
       " 'Iris-setosa\\n',\n",
       " 'Iris-setosa\\n',\n",
       " 'Iris-setosa\\n',\n",
       " 'Iris-setosa\\n']"
      ]
     },
     "execution_count": 17,
     "metadata": {},
     "output_type": "execute_result"
    }
   ],
   "source": [
    "klassid = [r.split(',')[4] for r in tabeli_read if r.count(',') >= 3]\n",
    "klassid[0:10]"
   ]
  }
 ],
 "metadata": {
  "kernelspec": {
   "display_name": "Python 3",
   "language": "python",
   "name": "python3"
  },
  "language_info": {
   "codemirror_mode": {
    "name": "ipython",
    "version": 3
   },
   "file_extension": ".py",
   "mimetype": "text/x-python",
   "name": "python",
   "nbconvert_exporter": "python",
   "pygments_lexer": "ipython3",
   "version": "3.7.9"
  }
 },
 "nbformat": 4,
 "nbformat_minor": 2
}
