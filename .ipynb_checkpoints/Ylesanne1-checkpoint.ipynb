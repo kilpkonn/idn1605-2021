{
 "cells": [
  {
   "cell_type": "markdown",
   "metadata": {},
   "source": [
    "# Aritmeetika ja if lause\n",
    "\n",
    "Pythoni kasutamine kalkulaatorina: [ Using Python as a Calculator](https://docs.python.org/3/tutorial/introduction.html#using-python-as-a-calculator)\n",
    "\n",
    "Tingimuslaused: [if-statements](https://docs.python.org/3/tutorial/controlflow.html#if-statements)\n",
    "\n",
    "Funktsioonide defineerimine: [Defining Functions](https://docs.python.org/3/tutorial/controlflow.html#defining-functions)"
   ]
  },
  {
   "cell_type": "markdown",
   "metadata": {},
   "source": [
    "# Ülesanne 1\n",
    "\n",
    "a) Lisada siia alla tekstilahter (*Insert -> Insert Cell Below*, tüübiks valida *Markdown*, mitte *Code*). Kirjutage tekstilahtrisse oma nimi ja matriklinumber. Pange sellele tekstilahtrile trellide (#) abil suur pealkiri **Autori andmed**. Lisage tekstilahtrisse link leheküljele *http:// scikit-learn.org/*. Lingi süntaks on *\\[lingi tekst\\](link).*"
   ]
  },
  {
   "cell_type": "markdown",
   "metadata": {},
   "source": [
    "# Autori andmed\n",
    "Tavo Annus  \n",
    "186060IAIB\n",
    "\n",
    "[Link](http://scikit-learn.org/)"
   ]
  },
  {
   "cell_type": "markdown",
   "metadata": {},
   "source": [
    "b) Lisage tekstilahter, kus lihtsustage avaldis $1000 + x + 4x - 500$. Esitage oma tuletuskäik *Markdowni*  matemaatiliste sümbolitena st dollarimärkide vahel."
   ]
  },
  {
   "cell_type": "markdown",
   "metadata": {},
   "source": [
    "$$1000 + x + 4x - 500 = 5x + 500$$"
   ]
  },
  {
   "cell_type": "markdown",
   "metadata": {},
   "source": [
    "c) Omistamine.  Lisage siia alla koodilahter, kus omistage muutujatele *v* ja *t* väärtused 10 ja 20."
   ]
  },
  {
   "cell_type": "code",
   "execution_count": 64,
   "metadata": {},
   "outputs": [],
   "source": [
    "v = 20  # 10\n",
    "t = 40  # 20"
   ]
  },
  {
   "cell_type": "markdown",
   "metadata": {},
   "source": [
    "d) Aritmeetika. Lisage siia alla koodilahter, kus omistage uuele muutujale s väärtus $$s = v \\cdot t$$\n",
    "Väljastage muutuja *s* väärtus."
   ]
  },
  {
   "cell_type": "code",
   "execution_count": 65,
   "metadata": {},
   "outputs": [
    {
     "data": {
      "text/plain": [
       "800"
      ]
     },
     "execution_count": 65,
     "metadata": {},
     "output_type": "execute_result"
    }
   ],
   "source": [
    "s = v * t\n",
    "s  # Or should I print?"
   ]
  },
  {
   "cell_type": "markdown",
   "metadata": {},
   "source": [
    "e) Omistamine. Lisage siia alla koodilahter, kus omistage muutujatele *a* ja *b* väärtused 3 ja 4.\n"
   ]
  },
  {
   "cell_type": "code",
   "execution_count": 66,
   "metadata": {},
   "outputs": [],
   "source": [
    "a, b = 3, 4"
   ]
  },
  {
   "cell_type": "markdown",
   "metadata": {},
   "source": [
    "f) Aritmeetika. Lisage siia alla koodilahter, kus omistage uuele muutujale *c* väärtus  $$ c = \\sqrt{a^2 + b^2}$$\n",
    "Väljastage muutuja *c* väärtus."
   ]
  },
  {
   "cell_type": "code",
   "execution_count": 67,
   "metadata": {},
   "outputs": [
    {
     "data": {
      "text/plain": [
       "5.0"
      ]
     },
     "execution_count": 67,
     "metadata": {},
     "output_type": "execute_result"
    }
   ],
   "source": [
    "c = (a**2 + b**2)**(1/2)\n",
    "c"
   ]
  },
  {
   "cell_type": "markdown",
   "metadata": {},
   "source": [
    "g) Lisage koodilahter, kus omistage muutujatele *semester* ja *iseseisev* väärtused 31 ja 42."
   ]
  },
  {
   "cell_type": "code",
   "execution_count": 68,
   "metadata": {},
   "outputs": [],
   "source": [
    "semester = 50  # 31\n",
    "iseseisev = 40  # 42"
   ]
  },
  {
   "cell_type": "markdown",
   "metadata": {},
   "source": [
    "h) Valik (**if**-struktuur). Leidke aine koguhinne sõltuvalt summast $$summa = semester+iseseisev$$ vastavalt järgnevale tabelile:\n",
    "\n",
    "| summa | hinne | \n",
    "| --- | --- |\n",
    "| 91... | 5 |\n",
    "| 81...90 | 4 |\n",
    "| 71...80 | 3 |\n",
    "| 61...70 | 2 |\n",
    "| 51...60 | 1 |\n",
    "| ... 50 | 0 |\n",
    "\n",
    "\n",
    "\n",
    "\n"
   ]
  },
  {
   "cell_type": "code",
   "execution_count": 69,
   "metadata": {},
   "outputs": [
    {
     "data": {
      "text/plain": [
       "4"
      ]
     },
     "execution_count": 69,
     "metadata": {},
     "output_type": "execute_result"
    }
   ],
   "source": [
    "grade = (semester + iseseisev - 51) // 10 + 1  # Too lazy to write unneccesary if statements\n",
    "grade = 0 if grade < 0 else grade  # I guess we can use if to clamp\n",
    "grade = 5 if grade > 5 else grade  # so that 'if' and 'else' get used\n",
    "grade"
   ]
  },
  {
   "cell_type": "markdown",
   "metadata": {},
   "source": [
    "i) Muutke üleval muutujate *v, t, a, b, semester, iseseisev* väärtuseid. Käivitage koodilahtrid uuesti käsuga *Cell -> Run All*. Kontrollige väljundi muutumist."
   ]
  },
  {
   "cell_type": "markdown",
   "metadata": {},
   "source": [
    "**Asi täitsa töötab**"
   ]
  },
  {
   "cell_type": "markdown",
   "metadata": {},
   "source": [
    "j) Defineerige punkti g) koguhinde arvutamine funkstioonina $koguhinne(semester, iseseisev)$, mis tagastab parameetrite $semester$ ja  $iseseisev$ alusel leitud koguhinde. Kontrollige selle korrektsust, kutsudes funktsiooni välja testandmetega (31, 42)."
   ]
  },
  {
   "cell_type": "code",
   "execution_count": 70,
   "metadata": {},
   "outputs": [
    {
     "data": {
      "text/plain": [
       "3"
      ]
     },
     "execution_count": 70,
     "metadata": {},
     "output_type": "execute_result"
    }
   ],
   "source": [
    "def koguhinne(semester: float, iseseisev: float) -> int:\n",
    "    \"\"\"Find grade.\"\"\"\n",
    "    return max(0, min(5, (semester + iseseisev - 51) // 10 + 1))  # Clamp\n",
    "\n",
    "koguhinne(31, 42)\n",
    "    "
   ]
  }
 ],
 "metadata": {
  "kernelspec": {
   "display_name": "Python 3",
   "language": "python",
   "name": "python3"
  },
  "language_info": {
   "codemirror_mode": {
    "name": "ipython",
    "version": 3
   },
   "file_extension": ".py",
   "mimetype": "text/x-python",
   "name": "python",
   "nbconvert_exporter": "python",
   "pygments_lexer": "ipython3",
   "version": "3.7.9"
  }
 },
 "nbformat": 4,
 "nbformat_minor": 2
}
